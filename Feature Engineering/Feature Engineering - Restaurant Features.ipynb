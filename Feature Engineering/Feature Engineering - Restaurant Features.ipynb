{
  "nbformat": 4,
  "nbformat_minor": 0,
  "metadata": {
    "kernelspec": {
      "name": "python3",
      "display_name": "Python 3"
    },
    "language_info": {
      "codemirror_mode": {
        "name": "ipython",
        "version": 3
      },
      "file_extension": ".py",
      "mimetype": "text/x-python",
      "name": "python",
      "nbconvert_exporter": "python",
      "pygments_lexer": "ipython3",
      "version": "3.7.3"
    },
    "colab": {
      "name": "Restaurant-EDA.ipynb",
      "provenance": [],
      "collapsed_sections": [],
      "toc_visible": true,
      "machine_shape": "hm"
    }
  },
  "cells": [
    {
      "cell_type": "markdown",
      "metadata": {
        "id": "-Uj-_EWjcMUH",
        "colab_type": "text"
      },
      "source": [
        "# 0 - Setting"
      ]
    },
    {
      "cell_type": "markdown",
      "metadata": {
        "id": "kQfahMmKcpKh",
        "colab_type": "text"
      },
      "source": [
        "Load Dependencies"
      ]
    },
    {
      "cell_type": "code",
      "metadata": {
        "id": "8voh4VbMcnUi",
        "colab_type": "code",
        "outputId": "116c6808-dbc0-48aa-dbcd-0f0452765725",
        "colab": {
          "base_uri": "https://localhost:8080/",
          "height": 122
        }
      },
      "source": [
        "import pandas as pd \n",
        "import numpy as np\n",
        "import datetime\n",
        "from google.colab import drive\n",
        "import warnings\n",
        "warnings.filterwarnings('ignore')\n",
        "drive.mount('/content/drive',force_remount = True)\n"
      ],
      "execution_count": 0,
      "outputs": [
        {
          "output_type": "stream",
          "text": [
            "Go to this URL in a browser: https://accounts.google.com/o/oauth2/auth?client_id=947318989803-6bn6qk8qdgf4n4g3pfee6491hc0brc4i.apps.googleusercontent.com&redirect_uri=urn%3aietf%3awg%3aoauth%3a2.0%3aoob&response_type=code&scope=email%20https%3a%2f%2fwww.googleapis.com%2fauth%2fdocs.test%20https%3a%2f%2fwww.googleapis.com%2fauth%2fdrive%20https%3a%2f%2fwww.googleapis.com%2fauth%2fdrive.photos.readonly%20https%3a%2f%2fwww.googleapis.com%2fauth%2fpeopleapi.readonly\n",
            "\n",
            "Enter your authorization code:\n",
            "··········\n",
            "Mounted at /content/drive\n"
          ],
          "name": "stdout"
        }
      ]
    },
    {
      "cell_type": "code",
      "metadata": {
        "id": "bLw8BFrJcbrr",
        "colab_type": "code",
        "colab": {}
      },
      "source": [
        "data_dir = '/content/drive/Shared drives/Predictive Competition/recruit-restaurant-visitor-forecasting/'"
      ],
      "execution_count": 0,
      "outputs": []
    },
    {
      "cell_type": "markdown",
      "metadata": {
        "id": "S9ruG9OGb8pI",
        "colab_type": "text"
      },
      "source": [
        "# 1 - Reading in the original files"
      ]
    },
    {
      "cell_type": "code",
      "metadata": {
        "id": "vdzpoQhCCiOJ",
        "colab_type": "code",
        "colab": {}
      },
      "source": [
        "air_visit = pd.read_csv(data_dir + 'air_visit_data.csv')\n",
        "air_store_info = pd.read_csv(data_dir + 'air_store_info.csv')\n",
        "hpg_reserve = pd.read_csv(data_dir + 'hpg_reserve.csv')\n",
        "store_id_relation = pd.read_csv(data_dir + 'store_id_relation.csv')\n",
        "hpg_store_info = pd.read_csv(data_dir + 'hpg_store_info.csv')\n",
        "air_reserve = pd.read_csv(data_dir + 'air_reserve.csv')\n",
        "date_info = pd.read_csv(data_dir + 'date_info.csv')"
      ],
      "execution_count": 0,
      "outputs": []
    },
    {
      "cell_type": "markdown",
      "metadata": {
        "id": "5JFaeVV-grAr",
        "colab_type": "text"
      },
      "source": [
        "---\n",
        "# 2 - Data Preparation"
      ]
    },
    {
      "cell_type": "markdown",
      "metadata": {
        "id": "TSZdQ6XOcnVk",
        "colab_type": "text"
      },
      "source": [
        "### A. Location data \n",
        "\n",
        "The first thing we are doing is splitting restaurants up by city / neighborhood. This will help us see the population and restaurant density in the area and take into account busy vs non busy areas.\n",
        "\n",
        "\n",
        "We will include the stores that are not in the \"air\" system initially to help us understand how much traffic each area receives and how much competition our core 150 restaurants have.\n",
        "\n",
        "However, when feeding into our final training data, we will only include the core 150 stores."
      ]
    },
    {
      "cell_type": "code",
      "metadata": {
        "id": "08LWlHi6c3UM",
        "colab_type": "code",
        "outputId": "2e7eb4b3-6e01-4d55-c990-a76074d9b15f",
        "colab": {
          "base_uri": "https://localhost:8080/",
          "height": 394
        }
      },
      "source": [
        "# Making sure that we have included every resturant in both systems for this part\n",
        "air = pd.merge(air_store_info, store_id_relation, on='air_store_id', how='left')\n",
        "all_stores = pd.merge(hpg_store_info, air, on = 'hpg_store_id', how='outer')\n",
        "\n",
        "# Re-ording the columns\n",
        "# Making sure we have consistent longitude and latitude data\n",
        "rest_location = all_stores[[\"air_store_id\",\"hpg_store_id\", \"latitude_x\", \"longitude_x\", \"latitude_y\", \"longitude_y\", \"hpg_area_name\", \"air_area_name\",\"hpg_genre_name\",\"air_genre_name\"]]\n",
        "rest_location.head()"
      ],
      "execution_count": 0,
      "outputs": [
        {
          "output_type": "execute_result",
          "data": {
            "text/html": [
              "<div>\n",
              "<style scoped>\n",
              "    .dataframe tbody tr th:only-of-type {\n",
              "        vertical-align: middle;\n",
              "    }\n",
              "\n",
              "    .dataframe tbody tr th {\n",
              "        vertical-align: top;\n",
              "    }\n",
              "\n",
              "    .dataframe thead th {\n",
              "        text-align: right;\n",
              "    }\n",
              "</style>\n",
              "<table border=\"1\" class=\"dataframe\">\n",
              "  <thead>\n",
              "    <tr style=\"text-align: right;\">\n",
              "      <th></th>\n",
              "      <th>air_store_id</th>\n",
              "      <th>hpg_store_id</th>\n",
              "      <th>latitude_x</th>\n",
              "      <th>longitude_x</th>\n",
              "      <th>latitude_y</th>\n",
              "      <th>longitude_y</th>\n",
              "      <th>hpg_area_name</th>\n",
              "      <th>air_area_name</th>\n",
              "      <th>hpg_genre_name</th>\n",
              "      <th>air_genre_name</th>\n",
              "    </tr>\n",
              "  </thead>\n",
              "  <tbody>\n",
              "    <tr>\n",
              "      <th>0</th>\n",
              "      <td>NaN</td>\n",
              "      <td>hpg_6622b62385aec8bf</td>\n",
              "      <td>35.643675</td>\n",
              "      <td>139.668221</td>\n",
              "      <td>NaN</td>\n",
              "      <td>NaN</td>\n",
              "      <td>Tōkyō-to Setagaya-ku Taishidō</td>\n",
              "      <td>NaN</td>\n",
              "      <td>Japanese style</td>\n",
              "      <td>NaN</td>\n",
              "    </tr>\n",
              "    <tr>\n",
              "      <th>1</th>\n",
              "      <td>NaN</td>\n",
              "      <td>hpg_e9e068dd49c5fa00</td>\n",
              "      <td>35.643675</td>\n",
              "      <td>139.668221</td>\n",
              "      <td>NaN</td>\n",
              "      <td>NaN</td>\n",
              "      <td>Tōkyō-to Setagaya-ku Taishidō</td>\n",
              "      <td>NaN</td>\n",
              "      <td>Japanese style</td>\n",
              "      <td>NaN</td>\n",
              "    </tr>\n",
              "    <tr>\n",
              "      <th>2</th>\n",
              "      <td>NaN</td>\n",
              "      <td>hpg_2976f7acb4b3a3bc</td>\n",
              "      <td>35.643675</td>\n",
              "      <td>139.668221</td>\n",
              "      <td>NaN</td>\n",
              "      <td>NaN</td>\n",
              "      <td>Tōkyō-to Setagaya-ku Taishidō</td>\n",
              "      <td>NaN</td>\n",
              "      <td>Japanese style</td>\n",
              "      <td>NaN</td>\n",
              "    </tr>\n",
              "    <tr>\n",
              "      <th>3</th>\n",
              "      <td>NaN</td>\n",
              "      <td>hpg_e51a522e098f024c</td>\n",
              "      <td>35.643675</td>\n",
              "      <td>139.668221</td>\n",
              "      <td>NaN</td>\n",
              "      <td>NaN</td>\n",
              "      <td>Tōkyō-to Setagaya-ku Taishidō</td>\n",
              "      <td>NaN</td>\n",
              "      <td>Japanese style</td>\n",
              "      <td>NaN</td>\n",
              "    </tr>\n",
              "    <tr>\n",
              "      <th>4</th>\n",
              "      <td>NaN</td>\n",
              "      <td>hpg_e3d0e1519894f275</td>\n",
              "      <td>35.643675</td>\n",
              "      <td>139.668221</td>\n",
              "      <td>NaN</td>\n",
              "      <td>NaN</td>\n",
              "      <td>Tōkyō-to Setagaya-ku Taishidō</td>\n",
              "      <td>NaN</td>\n",
              "      <td>Japanese style</td>\n",
              "      <td>NaN</td>\n",
              "    </tr>\n",
              "  </tbody>\n",
              "</table>\n",
              "</div>"
            ],
            "text/plain": [
              "  air_store_id          hpg_store_id  ...  hpg_genre_name  air_genre_name\n",
              "0          NaN  hpg_6622b62385aec8bf  ...  Japanese style             NaN\n",
              "1          NaN  hpg_e9e068dd49c5fa00  ...  Japanese style             NaN\n",
              "2          NaN  hpg_2976f7acb4b3a3bc  ...  Japanese style             NaN\n",
              "3          NaN  hpg_e51a522e098f024c  ...  Japanese style             NaN\n",
              "4          NaN  hpg_e3d0e1519894f275  ...  Japanese style             NaN\n",
              "\n",
              "[5 rows x 10 columns]"
            ]
          },
          "metadata": {
            "tags": []
          },
          "execution_count": 4
        }
      ]
    },
    {
      "cell_type": "markdown",
      "metadata": {
        "id": "FWKYxulYiVmw",
        "colab_type": "text"
      },
      "source": [
        "After merging the data, the longtitude / latitude of the same restarurant appeared twice. This information in two systems are not aligned, so it might be better to check which number is more accurate. \n",
        "For now, we take the average value as our final result.\n",
        "\n",
        "Note that if a value is \"null\" in one system but present in the other, taking the average automatically omits the null."
      ]
    },
    {
      "cell_type": "code",
      "metadata": {
        "id": "nj1uiy3GgJcp",
        "colab_type": "code",
        "outputId": "77d7e537-69a9-447f-fffe-e318c6d252d4",
        "colab": {
          "base_uri": "https://localhost:8080/",
          "height": 204
        }
      },
      "source": [
        "rest_location.loc[:,'latitude'] = rest_location.loc[:,['latitude_x', 'latitude_y']].mean(axis=1)\n",
        "rest_location.loc[:,'longitude'] = rest_location.loc[:,['longitude_x', 'longitude_y']].mean(axis=1)\n",
        "\n",
        "rest_location.drop(columns=['latitude_x','latitude_y','longitude_x','longitude_y'], inplace=True)\n",
        "rest_location.head()"
      ],
      "execution_count": 0,
      "outputs": [
        {
          "output_type": "execute_result",
          "data": {
            "text/html": [
              "<div>\n",
              "<style scoped>\n",
              "    .dataframe tbody tr th:only-of-type {\n",
              "        vertical-align: middle;\n",
              "    }\n",
              "\n",
              "    .dataframe tbody tr th {\n",
              "        vertical-align: top;\n",
              "    }\n",
              "\n",
              "    .dataframe thead th {\n",
              "        text-align: right;\n",
              "    }\n",
              "</style>\n",
              "<table border=\"1\" class=\"dataframe\">\n",
              "  <thead>\n",
              "    <tr style=\"text-align: right;\">\n",
              "      <th></th>\n",
              "      <th>air_store_id</th>\n",
              "      <th>hpg_store_id</th>\n",
              "      <th>hpg_area_name</th>\n",
              "      <th>air_area_name</th>\n",
              "      <th>hpg_genre_name</th>\n",
              "      <th>air_genre_name</th>\n",
              "      <th>latitude</th>\n",
              "      <th>longitude</th>\n",
              "    </tr>\n",
              "  </thead>\n",
              "  <tbody>\n",
              "    <tr>\n",
              "      <th>0</th>\n",
              "      <td>NaN</td>\n",
              "      <td>hpg_6622b62385aec8bf</td>\n",
              "      <td>Tōkyō-to Setagaya-ku Taishidō</td>\n",
              "      <td>NaN</td>\n",
              "      <td>Japanese style</td>\n",
              "      <td>NaN</td>\n",
              "      <td>35.643675</td>\n",
              "      <td>139.668221</td>\n",
              "    </tr>\n",
              "    <tr>\n",
              "      <th>1</th>\n",
              "      <td>NaN</td>\n",
              "      <td>hpg_e9e068dd49c5fa00</td>\n",
              "      <td>Tōkyō-to Setagaya-ku Taishidō</td>\n",
              "      <td>NaN</td>\n",
              "      <td>Japanese style</td>\n",
              "      <td>NaN</td>\n",
              "      <td>35.643675</td>\n",
              "      <td>139.668221</td>\n",
              "    </tr>\n",
              "    <tr>\n",
              "      <th>2</th>\n",
              "      <td>NaN</td>\n",
              "      <td>hpg_2976f7acb4b3a3bc</td>\n",
              "      <td>Tōkyō-to Setagaya-ku Taishidō</td>\n",
              "      <td>NaN</td>\n",
              "      <td>Japanese style</td>\n",
              "      <td>NaN</td>\n",
              "      <td>35.643675</td>\n",
              "      <td>139.668221</td>\n",
              "    </tr>\n",
              "    <tr>\n",
              "      <th>3</th>\n",
              "      <td>NaN</td>\n",
              "      <td>hpg_e51a522e098f024c</td>\n",
              "      <td>Tōkyō-to Setagaya-ku Taishidō</td>\n",
              "      <td>NaN</td>\n",
              "      <td>Japanese style</td>\n",
              "      <td>NaN</td>\n",
              "      <td>35.643675</td>\n",
              "      <td>139.668221</td>\n",
              "    </tr>\n",
              "    <tr>\n",
              "      <th>4</th>\n",
              "      <td>NaN</td>\n",
              "      <td>hpg_e3d0e1519894f275</td>\n",
              "      <td>Tōkyō-to Setagaya-ku Taishidō</td>\n",
              "      <td>NaN</td>\n",
              "      <td>Japanese style</td>\n",
              "      <td>NaN</td>\n",
              "      <td>35.643675</td>\n",
              "      <td>139.668221</td>\n",
              "    </tr>\n",
              "  </tbody>\n",
              "</table>\n",
              "</div>"
            ],
            "text/plain": [
              "  air_store_id          hpg_store_id  ...   latitude   longitude\n",
              "0          NaN  hpg_6622b62385aec8bf  ...  35.643675  139.668221\n",
              "1          NaN  hpg_e9e068dd49c5fa00  ...  35.643675  139.668221\n",
              "2          NaN  hpg_2976f7acb4b3a3bc  ...  35.643675  139.668221\n",
              "3          NaN  hpg_e51a522e098f024c  ...  35.643675  139.668221\n",
              "4          NaN  hpg_e3d0e1519894f275  ...  35.643675  139.668221\n",
              "\n",
              "[5 rows x 8 columns]"
            ]
          },
          "metadata": {
            "tags": []
          },
          "execution_count": 5
        }
      ]
    },
    {
      "cell_type": "markdown",
      "metadata": {
        "id": "4C2m4evQ0XP9",
        "colab_type": "text"
      },
      "source": [
        "The location data is provided to us in a single column - we need to split up the column in order to see the city, the neighborhood, and more detailed info. If the store is in our \"air\" system, we prefer to use the data provided there. If the data is null though, we have to use the data from \"hpg\"."
      ]
    },
    {
      "cell_type": "code",
      "metadata": {
        "id": "z8BN-VywKwGK",
        "colab_type": "code",
        "outputId": "628d6399-3f83-4cf5-c05d-135089a5c40c",
        "colab": {
          "base_uri": "https://localhost:8080/",
          "height": 374
        }
      },
      "source": [
        "# Splitting up locations\n",
        "hpg_df = pd.DataFrame(all_stores[\"hpg_area_name\"].str.split(' ', expand=True))\n",
        "air_df = pd.DataFrame(all_stores[\"air_area_name\"].str.split(' ', expand=True))\n",
        "\n",
        "# Naming the columns created from the split\n",
        "hpg_df.columns = ['hpg_geo1','hpg_geo2','hpg_geo3','hpg_geo4','hpg_geo5']\n",
        "air_df.columns = ['air_geo1','air_geo2','air_geo3','air_geo4','air_geo5']\n",
        "\n",
        "# Only keeping relevant info from the split\n",
        "together = pd.concat([hpg_df, air_df], axis=1)\n",
        "together = together[['hpg_geo1','hpg_geo2', 'air_geo1','air_geo2']]\n",
        "\n",
        "# Improved columns representing the city location\n",
        "together['geo1'] = np.where(together['air_geo1'].isnull(), together['hpg_geo1'], together['air_geo1'])\n",
        "together['geo2'] = np.where(together['air_geo2'].isnull(), together['hpg_geo2'], together['air_geo2'])\n",
        "\n",
        "# Removing Japanese characters / symbols\n",
        "together['geo1'] = together['geo1'].str.normalize('NFKD').str.encode('ascii', errors='ignore').str.decode('utf-8')\n",
        "together['geo2'] = together['geo2'].str.normalize('NFKD').str.encode('ascii', errors='ignore').str.decode('utf-8')\n",
        "\n",
        "together = together[['geo1', 'geo2']]\n",
        "all_stores = pd.concat([rest_location, together], axis=1)\n",
        "all_stores.head()"
      ],
      "execution_count": 0,
      "outputs": [
        {
          "output_type": "execute_result",
          "data": {
            "text/html": [
              "<div>\n",
              "<style scoped>\n",
              "    .dataframe tbody tr th:only-of-type {\n",
              "        vertical-align: middle;\n",
              "    }\n",
              "\n",
              "    .dataframe tbody tr th {\n",
              "        vertical-align: top;\n",
              "    }\n",
              "\n",
              "    .dataframe thead th {\n",
              "        text-align: right;\n",
              "    }\n",
              "</style>\n",
              "<table border=\"1\" class=\"dataframe\">\n",
              "  <thead>\n",
              "    <tr style=\"text-align: right;\">\n",
              "      <th></th>\n",
              "      <th>air_store_id</th>\n",
              "      <th>hpg_store_id</th>\n",
              "      <th>hpg_area_name</th>\n",
              "      <th>air_area_name</th>\n",
              "      <th>hpg_genre_name</th>\n",
              "      <th>air_genre_name</th>\n",
              "      <th>latitude</th>\n",
              "      <th>longitude</th>\n",
              "      <th>geo1</th>\n",
              "      <th>geo2</th>\n",
              "    </tr>\n",
              "  </thead>\n",
              "  <tbody>\n",
              "    <tr>\n",
              "      <th>0</th>\n",
              "      <td>NaN</td>\n",
              "      <td>hpg_6622b62385aec8bf</td>\n",
              "      <td>Tōkyō-to Setagaya-ku Taishidō</td>\n",
              "      <td>NaN</td>\n",
              "      <td>Japanese style</td>\n",
              "      <td>NaN</td>\n",
              "      <td>35.643675</td>\n",
              "      <td>139.668221</td>\n",
              "      <td>Tokyo-to</td>\n",
              "      <td>Setagaya-ku</td>\n",
              "    </tr>\n",
              "    <tr>\n",
              "      <th>1</th>\n",
              "      <td>NaN</td>\n",
              "      <td>hpg_e9e068dd49c5fa00</td>\n",
              "      <td>Tōkyō-to Setagaya-ku Taishidō</td>\n",
              "      <td>NaN</td>\n",
              "      <td>Japanese style</td>\n",
              "      <td>NaN</td>\n",
              "      <td>35.643675</td>\n",
              "      <td>139.668221</td>\n",
              "      <td>Tokyo-to</td>\n",
              "      <td>Setagaya-ku</td>\n",
              "    </tr>\n",
              "    <tr>\n",
              "      <th>2</th>\n",
              "      <td>NaN</td>\n",
              "      <td>hpg_2976f7acb4b3a3bc</td>\n",
              "      <td>Tōkyō-to Setagaya-ku Taishidō</td>\n",
              "      <td>NaN</td>\n",
              "      <td>Japanese style</td>\n",
              "      <td>NaN</td>\n",
              "      <td>35.643675</td>\n",
              "      <td>139.668221</td>\n",
              "      <td>Tokyo-to</td>\n",
              "      <td>Setagaya-ku</td>\n",
              "    </tr>\n",
              "    <tr>\n",
              "      <th>3</th>\n",
              "      <td>NaN</td>\n",
              "      <td>hpg_e51a522e098f024c</td>\n",
              "      <td>Tōkyō-to Setagaya-ku Taishidō</td>\n",
              "      <td>NaN</td>\n",
              "      <td>Japanese style</td>\n",
              "      <td>NaN</td>\n",
              "      <td>35.643675</td>\n",
              "      <td>139.668221</td>\n",
              "      <td>Tokyo-to</td>\n",
              "      <td>Setagaya-ku</td>\n",
              "    </tr>\n",
              "    <tr>\n",
              "      <th>4</th>\n",
              "      <td>NaN</td>\n",
              "      <td>hpg_e3d0e1519894f275</td>\n",
              "      <td>Tōkyō-to Setagaya-ku Taishidō</td>\n",
              "      <td>NaN</td>\n",
              "      <td>Japanese style</td>\n",
              "      <td>NaN</td>\n",
              "      <td>35.643675</td>\n",
              "      <td>139.668221</td>\n",
              "      <td>Tokyo-to</td>\n",
              "      <td>Setagaya-ku</td>\n",
              "    </tr>\n",
              "  </tbody>\n",
              "</table>\n",
              "</div>"
            ],
            "text/plain": [
              "  air_store_id          hpg_store_id  ...      geo1         geo2\n",
              "0          NaN  hpg_6622b62385aec8bf  ...  Tokyo-to  Setagaya-ku\n",
              "1          NaN  hpg_e9e068dd49c5fa00  ...  Tokyo-to  Setagaya-ku\n",
              "2          NaN  hpg_2976f7acb4b3a3bc  ...  Tokyo-to  Setagaya-ku\n",
              "3          NaN  hpg_e51a522e098f024c  ...  Tokyo-to  Setagaya-ku\n",
              "4          NaN  hpg_e3d0e1519894f275  ...  Tokyo-to  Setagaya-ku\n",
              "\n",
              "[5 rows x 10 columns]"
            ]
          },
          "metadata": {
            "tags": []
          },
          "execution_count": 6
        }
      ]
    },
    {
      "cell_type": "markdown",
      "metadata": {
        "id": "c6qKIZUVD4Ah",
        "colab_type": "text"
      },
      "source": [
        "To go along with this, we have also added the population for each of the cities. This information comes from [wikipedia](https://en.wikipedia.org/wiki/List_of_cities_in_Japan). We can use the city name to match the corresponding population."
      ]
    },
    {
      "cell_type": "code",
      "metadata": {
        "id": "t8oJ1n7eD-Bv",
        "colab_type": "code",
        "colab": {}
      },
      "source": [
        "#cities = list(set(all_stores['geo1']))\n",
        "cities = ['Tokyo-to','Osaka-fu','Fukuoka-ken','Hyogo-ken','Hokkaido','Hiroshima-ken','Shizuoka-ken','Miyagi-ken','Niigata-ken','Osaka','Kanagawa-ken', 'Saitama-ken']\n",
        "population = [2.7, 1.2, 8.6, 1.1, 1.0, 1.2, 1.5,3.7, 1.5, .8, 2.6, 1.6]\n",
        "density = [11.9, 5.4, 13.9, 1.3, 1.3, 1.7, .5, 8.5,2.7, .7, 11.9, 4.4]\n",
        "\n",
        "pop = pd.DataFrame(list(zip(cities, population, density)),\n",
        "            columns=['cities','population', 'density'])\n",
        "\n",
        "# Getting rid of Japanese hyphens\n",
        "first = pd.DataFrame(together[\"geo1\"])\n",
        "first.columns = ['city']\n",
        "\n",
        "# Population joining\n",
        "population = pd.merge(first, pop, left_on = ['city'], right_on= ['cities'], how='left')\n",
        "population = population.drop(columns = ['cities'])\n",
        "\n",
        "# Concat the population per city back to original\n",
        "all_stores = pd.concat([all_stores, population], axis=1)"
      ],
      "execution_count": 0,
      "outputs": []
    },
    {
      "cell_type": "markdown",
      "metadata": {
        "id": "Fv7vg67bh2Ww",
        "colab_type": "text"
      },
      "source": [
        "Now we don't need the latitude and longitude anymore, we already know the mached population, we can drop these columns."
      ]
    },
    {
      "cell_type": "code",
      "metadata": {
        "id": "DjcqXwwPh8eo",
        "colab_type": "code",
        "outputId": "668791fd-48d7-4679-fd35-e1c5a521cb5c",
        "colab": {
          "base_uri": "https://localhost:8080/",
          "height": 204
        }
      },
      "source": [
        "# this is what it should be\n",
        "all_stores = all_stores.drop(['hpg_area_name','air_area_name','city'],1)\n",
        "\n",
        "all_stores.head()"
      ],
      "execution_count": 0,
      "outputs": [
        {
          "output_type": "execute_result",
          "data": {
            "text/html": [
              "<div>\n",
              "<style scoped>\n",
              "    .dataframe tbody tr th:only-of-type {\n",
              "        vertical-align: middle;\n",
              "    }\n",
              "\n",
              "    .dataframe tbody tr th {\n",
              "        vertical-align: top;\n",
              "    }\n",
              "\n",
              "    .dataframe thead th {\n",
              "        text-align: right;\n",
              "    }\n",
              "</style>\n",
              "<table border=\"1\" class=\"dataframe\">\n",
              "  <thead>\n",
              "    <tr style=\"text-align: right;\">\n",
              "      <th></th>\n",
              "      <th>air_store_id</th>\n",
              "      <th>hpg_store_id</th>\n",
              "      <th>hpg_genre_name</th>\n",
              "      <th>air_genre_name</th>\n",
              "      <th>latitude</th>\n",
              "      <th>longitude</th>\n",
              "      <th>geo1</th>\n",
              "      <th>geo2</th>\n",
              "      <th>population</th>\n",
              "      <th>density</th>\n",
              "    </tr>\n",
              "  </thead>\n",
              "  <tbody>\n",
              "    <tr>\n",
              "      <th>0</th>\n",
              "      <td>NaN</td>\n",
              "      <td>hpg_6622b62385aec8bf</td>\n",
              "      <td>Japanese style</td>\n",
              "      <td>NaN</td>\n",
              "      <td>35.643675</td>\n",
              "      <td>139.668221</td>\n",
              "      <td>Tokyo-to</td>\n",
              "      <td>Setagaya-ku</td>\n",
              "      <td>2.7</td>\n",
              "      <td>11.9</td>\n",
              "    </tr>\n",
              "    <tr>\n",
              "      <th>1</th>\n",
              "      <td>NaN</td>\n",
              "      <td>hpg_e9e068dd49c5fa00</td>\n",
              "      <td>Japanese style</td>\n",
              "      <td>NaN</td>\n",
              "      <td>35.643675</td>\n",
              "      <td>139.668221</td>\n",
              "      <td>Tokyo-to</td>\n",
              "      <td>Setagaya-ku</td>\n",
              "      <td>2.7</td>\n",
              "      <td>11.9</td>\n",
              "    </tr>\n",
              "    <tr>\n",
              "      <th>2</th>\n",
              "      <td>NaN</td>\n",
              "      <td>hpg_2976f7acb4b3a3bc</td>\n",
              "      <td>Japanese style</td>\n",
              "      <td>NaN</td>\n",
              "      <td>35.643675</td>\n",
              "      <td>139.668221</td>\n",
              "      <td>Tokyo-to</td>\n",
              "      <td>Setagaya-ku</td>\n",
              "      <td>2.7</td>\n",
              "      <td>11.9</td>\n",
              "    </tr>\n",
              "    <tr>\n",
              "      <th>3</th>\n",
              "      <td>NaN</td>\n",
              "      <td>hpg_e51a522e098f024c</td>\n",
              "      <td>Japanese style</td>\n",
              "      <td>NaN</td>\n",
              "      <td>35.643675</td>\n",
              "      <td>139.668221</td>\n",
              "      <td>Tokyo-to</td>\n",
              "      <td>Setagaya-ku</td>\n",
              "      <td>2.7</td>\n",
              "      <td>11.9</td>\n",
              "    </tr>\n",
              "    <tr>\n",
              "      <th>4</th>\n",
              "      <td>NaN</td>\n",
              "      <td>hpg_e3d0e1519894f275</td>\n",
              "      <td>Japanese style</td>\n",
              "      <td>NaN</td>\n",
              "      <td>35.643675</td>\n",
              "      <td>139.668221</td>\n",
              "      <td>Tokyo-to</td>\n",
              "      <td>Setagaya-ku</td>\n",
              "      <td>2.7</td>\n",
              "      <td>11.9</td>\n",
              "    </tr>\n",
              "  </tbody>\n",
              "</table>\n",
              "</div>"
            ],
            "text/plain": [
              "  air_store_id          hpg_store_id  ... population density\n",
              "0          NaN  hpg_6622b62385aec8bf  ...        2.7    11.9\n",
              "1          NaN  hpg_e9e068dd49c5fa00  ...        2.7    11.9\n",
              "2          NaN  hpg_2976f7acb4b3a3bc  ...        2.7    11.9\n",
              "3          NaN  hpg_e51a522e098f024c  ...        2.7    11.9\n",
              "4          NaN  hpg_e3d0e1519894f275  ...        2.7    11.9\n",
              "\n",
              "[5 rows x 10 columns]"
            ]
          },
          "metadata": {
            "tags": []
          },
          "execution_count": 8
        }
      ]
    },
    {
      "cell_type": "markdown",
      "metadata": {
        "id": "Tmdxso6IdBrT",
        "colab_type": "text"
      },
      "source": [
        "### B. Restaurant types\n",
        "\n",
        "We are provided with restaurant types for every store in our data, but the labels are not consistent. In order to gain more meaningful data from the types of restaurants we are provided, we convert the many specific labels into more general labels that capture the restaurant type (eg Japanese, Western Food, bars, etc)."
      ]
    },
    {
      "cell_type": "code",
      "metadata": {
        "id": "cGVYT6UFgerW",
        "colab_type": "code",
        "colab": {}
      },
      "source": [
        "# Cleaning up the types of restaurant\n",
        "# We end up with 5 major types of restaurant + some others\n",
        "all_stores['Food_Type'] = np.where(all_stores['air_genre_name'].isnull(), \n",
        "                                         all_stores['hpg_genre_name'], \n",
        "                                         all_stores['air_genre_name'])\n",
        "\n",
        "all_stores['Food_Type'] = np.where(all_stores['Food_Type'].str.contains(('Izakaya'), case=False, na=False), 'Izakaya',all_stores['Food_Type'])\n",
        "all_stores['Food_Type'] = np.where(all_stores['Food_Type'].str.contains((\"bar\"), case=False, na=False), 'Bars', all_stores['Food_Type'])\n",
        "all_stores['Food_Type'] = np.where(all_stores['Food_Type'].str.contains((\"Japanese|Monja|Shabu|Sushi|Udon\"), case=False, na=False), 'Japanese', all_stores['Food_Type'])\n",
        "all_stores['Food_Type'] = np.where(all_stores['Food_Type'].str.contains(('Western|Creative|Karaoke|Other'), case=False, na=False), 'Western/Create', all_stores['Food_Type'])\n",
        "all_stores['Food_Type'] = np.where(all_stores['Food_Type'].str.contains((\"Yakiniku|Korean\"), case=False, na=False), 'Korean', all_stores['Food_Type'])\n",
        "all_stores['Food_Type'] = np.where(all_stores['Food_Type'].str.contains((\"Cafe|Sweets\"),case=False, na=False), 'Cafe', all_stores['Food_Type'])\n",
        "all_stores['Food_Type'] = np.where(all_stores['Food_Type'].str.contains((\"Italian|French|Spain\"), case=False, na=False), 'European', all_stores['Food_Type'])\n",
        "\n",
        "all_stores['Dining_Cat'] = np.where(all_stores['Food_Type'].str.contains(('Bars|Izakaya'), case=False, na=False), 'Drinks','Food')"
      ],
      "execution_count": 0,
      "outputs": []
    },
    {
      "cell_type": "markdown",
      "metadata": {
        "id": "YyiiJBq_1yqm",
        "colab_type": "text"
      },
      "source": [
        "### C. Holidays"
      ]
    },
    {
      "cell_type": "markdown",
      "metadata": {
        "id": "W9ErqXgVjkJh",
        "colab_type": "text"
      },
      "source": [
        "Also, we think if the next three days is holiday, there might be a higher traffic for restaurant. So we set up a flag to see if the next / previous three days are holiday or not. \n",
        "The holiday information is contained in *date_info* table. We can use table as our basis."
      ]
    },
    {
      "cell_type": "code",
      "metadata": {
        "id": "_D7s7Yip14mY",
        "colab_type": "code",
        "outputId": "bccc72b8-e6fc-4369-ae11-bcf553d79586",
        "colab": {
          "base_uri": "https://localhost:8080/",
          "height": 204
        }
      },
      "source": [
        "date_info = pd.read_csv(data_dir + 'date_info.csv')\n",
        "# rename the columns to make the column name match other dataset\n",
        "date_info.rename(columns={'holiday_flg': 'is_holiday', 'calendar_date': 'visit_date'}, inplace=True)\n",
        "\n",
        "# previous days holiday flag. 1 means holiday, 0 means not\n",
        "date_info['prev_day'] = date_info['is_holiday'].shift().fillna(0)\n",
        "\n",
        "# following days holiday flag, 1 means holiday, 0 means not\n",
        "date_info['next_day'] = date_info['is_holiday'].shift(-1).fillna(0)\n",
        "date_info.head()"
      ],
      "execution_count": 0,
      "outputs": [
        {
          "output_type": "execute_result",
          "data": {
            "text/html": [
              "<div>\n",
              "<style scoped>\n",
              "    .dataframe tbody tr th:only-of-type {\n",
              "        vertical-align: middle;\n",
              "    }\n",
              "\n",
              "    .dataframe tbody tr th {\n",
              "        vertical-align: top;\n",
              "    }\n",
              "\n",
              "    .dataframe thead th {\n",
              "        text-align: right;\n",
              "    }\n",
              "</style>\n",
              "<table border=\"1\" class=\"dataframe\">\n",
              "  <thead>\n",
              "    <tr style=\"text-align: right;\">\n",
              "      <th></th>\n",
              "      <th>visit_date</th>\n",
              "      <th>day_of_week</th>\n",
              "      <th>is_holiday</th>\n",
              "      <th>prev_day</th>\n",
              "      <th>next_day</th>\n",
              "    </tr>\n",
              "  </thead>\n",
              "  <tbody>\n",
              "    <tr>\n",
              "      <th>0</th>\n",
              "      <td>2016-01-01</td>\n",
              "      <td>Friday</td>\n",
              "      <td>1</td>\n",
              "      <td>0.0</td>\n",
              "      <td>1.0</td>\n",
              "    </tr>\n",
              "    <tr>\n",
              "      <th>1</th>\n",
              "      <td>2016-01-02</td>\n",
              "      <td>Saturday</td>\n",
              "      <td>1</td>\n",
              "      <td>1.0</td>\n",
              "      <td>1.0</td>\n",
              "    </tr>\n",
              "    <tr>\n",
              "      <th>2</th>\n",
              "      <td>2016-01-03</td>\n",
              "      <td>Sunday</td>\n",
              "      <td>1</td>\n",
              "      <td>1.0</td>\n",
              "      <td>0.0</td>\n",
              "    </tr>\n",
              "    <tr>\n",
              "      <th>3</th>\n",
              "      <td>2016-01-04</td>\n",
              "      <td>Monday</td>\n",
              "      <td>0</td>\n",
              "      <td>1.0</td>\n",
              "      <td>0.0</td>\n",
              "    </tr>\n",
              "    <tr>\n",
              "      <th>4</th>\n",
              "      <td>2016-01-05</td>\n",
              "      <td>Tuesday</td>\n",
              "      <td>0</td>\n",
              "      <td>0.0</td>\n",
              "      <td>0.0</td>\n",
              "    </tr>\n",
              "  </tbody>\n",
              "</table>\n",
              "</div>"
            ],
            "text/plain": [
              "   visit_date day_of_week  is_holiday  prev_day  next_day\n",
              "0  2016-01-01      Friday           1       0.0       1.0\n",
              "1  2016-01-02    Saturday           1       1.0       1.0\n",
              "2  2016-01-03      Sunday           1       1.0       0.0\n",
              "3  2016-01-04      Monday           0       1.0       0.0\n",
              "4  2016-01-05     Tuesday           0       0.0       0.0"
            ]
          },
          "metadata": {
            "tags": []
          },
          "execution_count": 10
        }
      ]
    },
    {
      "cell_type": "markdown",
      "metadata": {
        "id": "Md5nsFWM19z9",
        "colab_type": "text"
      },
      "source": [
        "If any of the next / previous three days is holiday, we think this is a traffic signal and use 1 to represent, otherwise we use 0."
      ]
    },
    {
      "cell_type": "markdown",
      "metadata": {
        "id": "_gzjkW03m460",
        "colab_type": "text"
      },
      "source": [
        "### D. Create time series features for visit date"
      ]
    },
    {
      "cell_type": "markdown",
      "metadata": {
        "id": "NPTDZU9uqhBZ",
        "colab_type": "text"
      },
      "source": [
        "Since the data is not complete. We don't have information for the past whole year so that We want to make it complete. We assume that if there the day doesn't appear in our data, there is no visitors on that day. So the `visitors= 0`"
      ]
    },
    {
      "cell_type": "code",
      "metadata": {
        "id": "w2hW46E6wdQ2",
        "colab_type": "code",
        "colab": {}
      },
      "source": [
        "air_visit = pd.read_csv(data_dir + 'air_visit_data.csv')"
      ],
      "execution_count": 0,
      "outputs": []
    },
    {
      "cell_type": "code",
      "metadata": {
        "id": "tfM2YlZo2V8k",
        "colab_type": "code",
        "colab": {}
      },
      "source": [
        "# when setting index, we should conver it to datetime object\n",
        "#air_visit.index = pd.to_datetime(air_visit['visit_date'])\n",
        "\n",
        "# aggeregate the visitors per day per store.\n",
        "# air_visit = air_visit.groupby('air_store_id').apply(lambda g: g['visitors'].resample('1d').sum()).reset_index()\n",
        "\n",
        "# air_visit['visit_date'] = air_visit['visit_date'].dt.strftime('%Y-%m-%d') # original type is timestamp with hms, now it's %y-m-d\n",
        "\n",
        "# if the records is not existed before or if its test data\n",
        "#air_visit['open'] = air_visit['visitors'].apply(lambda x: 1 if x !=0 else 0)\n",
        "#air_visit.head()"
      ],
      "execution_count": 0,
      "outputs": []
    },
    {
      "cell_type": "markdown",
      "metadata": {
        "id": "3BwJYBAvnCom",
        "colab_type": "text"
      },
      "source": [
        "Time Series variables to be created (create based on Datetime column) :\n",
        "1. quarter, \n",
        "2. season (winter, summer), \n",
        "3. month, \n",
        "4. week, \n",
        "5. day of week\n",
        "6. Days to the 25th of previous month (Japanese people usually get their salary at the 25th of each month)"
      ]
    },
    {
      "cell_type": "markdown",
      "metadata": {
        "id": "QFfjhsBknLvp",
        "colab_type": "text"
      },
      "source": [
        "D1. quarter, D3. month, D4. week, D5. day of week"
      ]
    },
    {
      "cell_type": "code",
      "metadata": {
        "id": "elCePUyrnRrV",
        "colab_type": "code",
        "colab": {}
      },
      "source": [
        "air_visit[\"visit_date\"] = pd.to_datetime(air_visit[\"visit_date\"])\n",
        "\n",
        "# 1. quarter, 3. month, 4. week, 5. day of week\n",
        "air_visit[\"month\"] = air_visit[\"visit_date\"].dt.month\n",
        "air_visit[\"week\"] = air_visit[\"visit_date\"].dt.week\n",
        "air_visit[\"dayofweek\"] = air_visit[\"visit_date\"].dt.dayofweek # 0 (sunday) - 6"
      ],
      "execution_count": 0,
      "outputs": []
    },
    {
      "cell_type": "markdown",
      "metadata": {
        "id": "423Y1xsDo2t9",
        "colab_type": "text"
      },
      "source": [
        "D2. season\n",
        "Japan has four distinct seasons: \n",
        "March to May is spring; \n",
        "June to August is summer; \n",
        "September to November is autumn; \n",
        "and December to February is winter. \n",
        "Each season has very different temperatures and climates"
      ]
    },
    {
      "cell_type": "code",
      "metadata": {
        "id": "YlYauZcNorJ2",
        "colab_type": "code",
        "colab": {}
      },
      "source": [
        "def seasonLabel(row):\n",
        "    if row['month'] in [3,4,5]:\n",
        "        return 'spring'\n",
        "    if row['month'] in [6,7,8]:\n",
        "        return 'summer'\n",
        "    if row['month'] in [9,10,11]:\n",
        "        return 'autumn'\n",
        "    if row['month'] in [12,1,2]:\n",
        "        return 'winter'\n",
        "    \n",
        "air_visit[\"season\"] = air_visit.apply(lambda row:seasonLabel(row), axis=1)  \n",
        "    "
      ],
      "execution_count": 0,
      "outputs": []
    },
    {
      "cell_type": "code",
      "metadata": {
        "id": "aNSRjTx1yhUR",
        "colab_type": "code",
        "colab": {}
      },
      "source": [
        "# 7. Days to the 25th of previous month (Japanese people usually get their salary at the 25th of each month)\n",
        "# create days to the 25th of previous month\n",
        "# 7.1 day of month >= 25, day of month - 25\n",
        "# 7.2 day of month < 25, (days in month - 25) + day of month\n",
        "\n",
        "air_visit[\"dayofmonth\"] = air_visit[\"visit_date\"].dt.day    \n",
        "# visit_data[\"daysinmonth\"] = visit_data[\"visit_date\"].dt.daysinmonth \n",
        "# visit_data[\"daysToMonthEnd\"] = visit_data[\"daysinmonth\"] - visit_data[\"dayofmonth\"]  \n",
        "air_visit[\"daysinPrevmonth\"] = (air_visit[\"visit_date\"] - pd.DateOffset(months=1)).dt.daysinmonth \n",
        "\n",
        "def daysToPrev25th(row):\n",
        "    TARGET_DATE = 25\n",
        "    if row['dayofmonth'] >= 25:\n",
        "        return row['dayofmonth'] - TARGET_DATE\n",
        "    else:\n",
        "        return row['daysinPrevmonth'] - TARGET_DATE + row['dayofmonth']\n",
        "\n",
        "air_visit[\"daysToPrev25th\"] = air_visit.apply(lambda row:daysToPrev25th(row), axis=1)"
      ],
      "execution_count": 0,
      "outputs": []
    },
    {
      "cell_type": "code",
      "metadata": {
        "id": "yv312_xfz8yY",
        "colab_type": "code",
        "colab": {}
      },
      "source": [
        "air_visit['visit_date'] = air_visit['visit_date'].dt.strftime('%Y-%m-%d') # original type is timestamp with hms, now it's %y-m-d"
      ],
      "execution_count": 0,
      "outputs": []
    },
    {
      "cell_type": "code",
      "metadata": {
        "id": "VPZSCGulzEs8",
        "colab_type": "code",
        "outputId": "92ecf55b-05eb-46b9-d74b-bbe8409c5763",
        "colab": {
          "base_uri": "https://localhost:8080/",
          "height": 204
        }
      },
      "source": [
        "air_visit.head()"
      ],
      "execution_count": 0,
      "outputs": [
        {
          "output_type": "execute_result",
          "data": {
            "text/html": [
              "<div>\n",
              "<style scoped>\n",
              "    .dataframe tbody tr th:only-of-type {\n",
              "        vertical-align: middle;\n",
              "    }\n",
              "\n",
              "    .dataframe tbody tr th {\n",
              "        vertical-align: top;\n",
              "    }\n",
              "\n",
              "    .dataframe thead th {\n",
              "        text-align: right;\n",
              "    }\n",
              "</style>\n",
              "<table border=\"1\" class=\"dataframe\">\n",
              "  <thead>\n",
              "    <tr style=\"text-align: right;\">\n",
              "      <th></th>\n",
              "      <th>air_store_id</th>\n",
              "      <th>visit_date</th>\n",
              "      <th>visitors</th>\n",
              "      <th>month</th>\n",
              "      <th>week</th>\n",
              "      <th>dayofweek</th>\n",
              "      <th>season</th>\n",
              "      <th>dayofmonth</th>\n",
              "      <th>daysinPrevmonth</th>\n",
              "      <th>daysToPrev25th</th>\n",
              "    </tr>\n",
              "  </thead>\n",
              "  <tbody>\n",
              "    <tr>\n",
              "      <th>0</th>\n",
              "      <td>air_ba937bf13d40fb24</td>\n",
              "      <td>2016-01-13</td>\n",
              "      <td>25</td>\n",
              "      <td>1</td>\n",
              "      <td>2</td>\n",
              "      <td>2</td>\n",
              "      <td>winter</td>\n",
              "      <td>13</td>\n",
              "      <td>31</td>\n",
              "      <td>19</td>\n",
              "    </tr>\n",
              "    <tr>\n",
              "      <th>1</th>\n",
              "      <td>air_ba937bf13d40fb24</td>\n",
              "      <td>2016-01-14</td>\n",
              "      <td>32</td>\n",
              "      <td>1</td>\n",
              "      <td>2</td>\n",
              "      <td>3</td>\n",
              "      <td>winter</td>\n",
              "      <td>14</td>\n",
              "      <td>31</td>\n",
              "      <td>20</td>\n",
              "    </tr>\n",
              "    <tr>\n",
              "      <th>2</th>\n",
              "      <td>air_ba937bf13d40fb24</td>\n",
              "      <td>2016-01-15</td>\n",
              "      <td>29</td>\n",
              "      <td>1</td>\n",
              "      <td>2</td>\n",
              "      <td>4</td>\n",
              "      <td>winter</td>\n",
              "      <td>15</td>\n",
              "      <td>31</td>\n",
              "      <td>21</td>\n",
              "    </tr>\n",
              "    <tr>\n",
              "      <th>3</th>\n",
              "      <td>air_ba937bf13d40fb24</td>\n",
              "      <td>2016-01-16</td>\n",
              "      <td>22</td>\n",
              "      <td>1</td>\n",
              "      <td>2</td>\n",
              "      <td>5</td>\n",
              "      <td>winter</td>\n",
              "      <td>16</td>\n",
              "      <td>31</td>\n",
              "      <td>22</td>\n",
              "    </tr>\n",
              "    <tr>\n",
              "      <th>4</th>\n",
              "      <td>air_ba937bf13d40fb24</td>\n",
              "      <td>2016-01-18</td>\n",
              "      <td>6</td>\n",
              "      <td>1</td>\n",
              "      <td>3</td>\n",
              "      <td>0</td>\n",
              "      <td>winter</td>\n",
              "      <td>18</td>\n",
              "      <td>31</td>\n",
              "      <td>24</td>\n",
              "    </tr>\n",
              "  </tbody>\n",
              "</table>\n",
              "</div>"
            ],
            "text/plain": [
              "           air_store_id  visit_date  ...  daysinPrevmonth  daysToPrev25th\n",
              "0  air_ba937bf13d40fb24  2016-01-13  ...               31              19\n",
              "1  air_ba937bf13d40fb24  2016-01-14  ...               31              20\n",
              "2  air_ba937bf13d40fb24  2016-01-15  ...               31              21\n",
              "3  air_ba937bf13d40fb24  2016-01-16  ...               31              22\n",
              "4  air_ba937bf13d40fb24  2016-01-18  ...               31              24\n",
              "\n",
              "[5 rows x 10 columns]"
            ]
          },
          "metadata": {
            "tags": []
          },
          "execution_count": 17
        }
      ]
    },
    {
      "cell_type": "markdown",
      "metadata": {
        "id": "dhCtqdgWfkCr",
        "colab_type": "text"
      },
      "source": [
        "# 3 - Final Data generation"
      ]
    },
    {
      "cell_type": "markdown",
      "metadata": {
        "id": "WswBIW-BmDP2",
        "colab_type": "text"
      },
      "source": [
        "Now we have the date information, the area, population, food type ,.etc. We are ready for generating the final training/testing dataset. "
      ]
    },
    {
      "cell_type": "markdown",
      "metadata": {
        "id": "6dwzDdzXqxQn",
        "colab_type": "text"
      },
      "source": [
        "Our test data is implicitly located in the *sample-submission* file. So we can append these files to the original air stores. \n",
        "Set up a flag to see if it's test data or not, and we assume all the stores in test period is open. The number of visitors is Null just for now. We will predict these numbers in following training."
      ]
    },
    {
      "cell_type": "code",
      "metadata": {
        "id": "3n755gblP7C0",
        "colab_type": "code",
        "outputId": "d661dc6c-34ac-47f4-d6e5-699e132e5832",
        "colab": {
          "base_uri": "https://localhost:8080/",
          "height": 204
        }
      },
      "source": [
        "# load the test data\n",
        "submission = pd.read_csv(data_dir + 'sample_submission.csv')\n",
        "# set a flag to see if this is test data\n",
        "submission['is_test'] = True\n",
        "# all test stores should be open in the test period\n",
        "submission['open'] = 1\n",
        "# separate the id to store_id and the datte\n",
        "submission['air_store_id'] = submission['id'].str.slice(0, 20)\n",
        "submission['visit_date'] = pd.to_datetime(submission['id'].str.slice(21))\n",
        "# the initial visitor values is null\n",
        "submission['visitors'] = np.nan\n",
        "\n",
        "submission['month'] = submission.visit_date.dt.month\n",
        "submission[\"week\"] = submission[\"visit_date\"].dt.week\n",
        "submission[\"season\"] = submission.apply(lambda row:seasonLabel(row), axis=1)  \n",
        "\n",
        "submission[\"dayofweek\"] = submission[\"visit_date\"].dt.dayofweek # 0 (sunday) - 6\n",
        "submission[\"dayofmonth\"] = submission[\"visit_date\"].dt.day    \n",
        "submission[\"daysinPrevmonth\"] = (submission[\"visit_date\"] - pd.DateOffset(months=1)).dt.daysinmonth \n",
        "submission[\"daysToPrev25th\"] = submission.apply(lambda row:daysToPrev25th(row), axis=1)\n",
        "submission['visit_date'] = submission['visit_date'].astype(np.str)\n",
        "\n",
        "# select necessary columns\n",
        "submission = submission[['air_store_id','visit_date','visitors','is_test','season','daysToPrev25th','week',\n",
        "                         'month','daysinPrevmonth','dayofweek','dayofmonth']]\n",
        "submission.head()"
      ],
      "execution_count": 0,
      "outputs": [
        {
          "output_type": "execute_result",
          "data": {
            "text/html": [
              "<div>\n",
              "<style scoped>\n",
              "    .dataframe tbody tr th:only-of-type {\n",
              "        vertical-align: middle;\n",
              "    }\n",
              "\n",
              "    .dataframe tbody tr th {\n",
              "        vertical-align: top;\n",
              "    }\n",
              "\n",
              "    .dataframe thead th {\n",
              "        text-align: right;\n",
              "    }\n",
              "</style>\n",
              "<table border=\"1\" class=\"dataframe\">\n",
              "  <thead>\n",
              "    <tr style=\"text-align: right;\">\n",
              "      <th></th>\n",
              "      <th>air_store_id</th>\n",
              "      <th>visit_date</th>\n",
              "      <th>visitors</th>\n",
              "      <th>is_test</th>\n",
              "      <th>season</th>\n",
              "      <th>daysToPrev25th</th>\n",
              "      <th>week</th>\n",
              "      <th>month</th>\n",
              "      <th>daysinPrevmonth</th>\n",
              "      <th>dayofweek</th>\n",
              "      <th>dayofmonth</th>\n",
              "    </tr>\n",
              "  </thead>\n",
              "  <tbody>\n",
              "    <tr>\n",
              "      <th>0</th>\n",
              "      <td>air_00a91d42b08b08d9</td>\n",
              "      <td>2017-04-23</td>\n",
              "      <td>NaN</td>\n",
              "      <td>True</td>\n",
              "      <td>spring</td>\n",
              "      <td>29</td>\n",
              "      <td>16</td>\n",
              "      <td>4</td>\n",
              "      <td>31</td>\n",
              "      <td>6</td>\n",
              "      <td>23</td>\n",
              "    </tr>\n",
              "    <tr>\n",
              "      <th>1</th>\n",
              "      <td>air_00a91d42b08b08d9</td>\n",
              "      <td>2017-04-24</td>\n",
              "      <td>NaN</td>\n",
              "      <td>True</td>\n",
              "      <td>spring</td>\n",
              "      <td>30</td>\n",
              "      <td>17</td>\n",
              "      <td>4</td>\n",
              "      <td>31</td>\n",
              "      <td>0</td>\n",
              "      <td>24</td>\n",
              "    </tr>\n",
              "    <tr>\n",
              "      <th>2</th>\n",
              "      <td>air_00a91d42b08b08d9</td>\n",
              "      <td>2017-04-25</td>\n",
              "      <td>NaN</td>\n",
              "      <td>True</td>\n",
              "      <td>spring</td>\n",
              "      <td>0</td>\n",
              "      <td>17</td>\n",
              "      <td>4</td>\n",
              "      <td>31</td>\n",
              "      <td>1</td>\n",
              "      <td>25</td>\n",
              "    </tr>\n",
              "    <tr>\n",
              "      <th>3</th>\n",
              "      <td>air_00a91d42b08b08d9</td>\n",
              "      <td>2017-04-26</td>\n",
              "      <td>NaN</td>\n",
              "      <td>True</td>\n",
              "      <td>spring</td>\n",
              "      <td>1</td>\n",
              "      <td>17</td>\n",
              "      <td>4</td>\n",
              "      <td>31</td>\n",
              "      <td>2</td>\n",
              "      <td>26</td>\n",
              "    </tr>\n",
              "    <tr>\n",
              "      <th>4</th>\n",
              "      <td>air_00a91d42b08b08d9</td>\n",
              "      <td>2017-04-27</td>\n",
              "      <td>NaN</td>\n",
              "      <td>True</td>\n",
              "      <td>spring</td>\n",
              "      <td>2</td>\n",
              "      <td>17</td>\n",
              "      <td>4</td>\n",
              "      <td>31</td>\n",
              "      <td>3</td>\n",
              "      <td>27</td>\n",
              "    </tr>\n",
              "  </tbody>\n",
              "</table>\n",
              "</div>"
            ],
            "text/plain": [
              "           air_store_id  visit_date  ...  dayofweek  dayofmonth\n",
              "0  air_00a91d42b08b08d9  2017-04-23  ...          6          23\n",
              "1  air_00a91d42b08b08d9  2017-04-24  ...          0          24\n",
              "2  air_00a91d42b08b08d9  2017-04-25  ...          1          25\n",
              "3  air_00a91d42b08b08d9  2017-04-26  ...          2          26\n",
              "4  air_00a91d42b08b08d9  2017-04-27  ...          3          27\n",
              "\n",
              "[5 rows x 11 columns]"
            ]
          },
          "metadata": {
            "tags": []
          },
          "execution_count": 18
        }
      ]
    },
    {
      "cell_type": "code",
      "metadata": {
        "id": "yw-fdqxUO-_L",
        "colab_type": "code",
        "outputId": "cbc8db2f-9e93-4bf5-97cb-07159f8f7e15",
        "colab": {
          "base_uri": "https://localhost:8080/",
          "height": 204
        }
      },
      "source": [
        "air_visit['is_test'] = False\n",
        "air_visit = pd.concat([air_visit, submission],axis = 0)\n",
        "air_visit['visitors'] = air_visit['visitors'].astype(float)\n",
        "air_visit['visit_date'] = air_visit['visit_date'].astype(np.str)\n",
        "air_visit.head()"
      ],
      "execution_count": 0,
      "outputs": [
        {
          "output_type": "execute_result",
          "data": {
            "text/html": [
              "<div>\n",
              "<style scoped>\n",
              "    .dataframe tbody tr th:only-of-type {\n",
              "        vertical-align: middle;\n",
              "    }\n",
              "\n",
              "    .dataframe tbody tr th {\n",
              "        vertical-align: top;\n",
              "    }\n",
              "\n",
              "    .dataframe thead th {\n",
              "        text-align: right;\n",
              "    }\n",
              "</style>\n",
              "<table border=\"1\" class=\"dataframe\">\n",
              "  <thead>\n",
              "    <tr style=\"text-align: right;\">\n",
              "      <th></th>\n",
              "      <th>air_store_id</th>\n",
              "      <th>dayofmonth</th>\n",
              "      <th>dayofweek</th>\n",
              "      <th>daysToPrev25th</th>\n",
              "      <th>daysinPrevmonth</th>\n",
              "      <th>is_test</th>\n",
              "      <th>month</th>\n",
              "      <th>season</th>\n",
              "      <th>visit_date</th>\n",
              "      <th>visitors</th>\n",
              "      <th>week</th>\n",
              "    </tr>\n",
              "  </thead>\n",
              "  <tbody>\n",
              "    <tr>\n",
              "      <th>0</th>\n",
              "      <td>air_ba937bf13d40fb24</td>\n",
              "      <td>13</td>\n",
              "      <td>2</td>\n",
              "      <td>19</td>\n",
              "      <td>31</td>\n",
              "      <td>False</td>\n",
              "      <td>1</td>\n",
              "      <td>winter</td>\n",
              "      <td>2016-01-13</td>\n",
              "      <td>25.0</td>\n",
              "      <td>2</td>\n",
              "    </tr>\n",
              "    <tr>\n",
              "      <th>1</th>\n",
              "      <td>air_ba937bf13d40fb24</td>\n",
              "      <td>14</td>\n",
              "      <td>3</td>\n",
              "      <td>20</td>\n",
              "      <td>31</td>\n",
              "      <td>False</td>\n",
              "      <td>1</td>\n",
              "      <td>winter</td>\n",
              "      <td>2016-01-14</td>\n",
              "      <td>32.0</td>\n",
              "      <td>2</td>\n",
              "    </tr>\n",
              "    <tr>\n",
              "      <th>2</th>\n",
              "      <td>air_ba937bf13d40fb24</td>\n",
              "      <td>15</td>\n",
              "      <td>4</td>\n",
              "      <td>21</td>\n",
              "      <td>31</td>\n",
              "      <td>False</td>\n",
              "      <td>1</td>\n",
              "      <td>winter</td>\n",
              "      <td>2016-01-15</td>\n",
              "      <td>29.0</td>\n",
              "      <td>2</td>\n",
              "    </tr>\n",
              "    <tr>\n",
              "      <th>3</th>\n",
              "      <td>air_ba937bf13d40fb24</td>\n",
              "      <td>16</td>\n",
              "      <td>5</td>\n",
              "      <td>22</td>\n",
              "      <td>31</td>\n",
              "      <td>False</td>\n",
              "      <td>1</td>\n",
              "      <td>winter</td>\n",
              "      <td>2016-01-16</td>\n",
              "      <td>22.0</td>\n",
              "      <td>2</td>\n",
              "    </tr>\n",
              "    <tr>\n",
              "      <th>4</th>\n",
              "      <td>air_ba937bf13d40fb24</td>\n",
              "      <td>18</td>\n",
              "      <td>0</td>\n",
              "      <td>24</td>\n",
              "      <td>31</td>\n",
              "      <td>False</td>\n",
              "      <td>1</td>\n",
              "      <td>winter</td>\n",
              "      <td>2016-01-18</td>\n",
              "      <td>6.0</td>\n",
              "      <td>3</td>\n",
              "    </tr>\n",
              "  </tbody>\n",
              "</table>\n",
              "</div>"
            ],
            "text/plain": [
              "           air_store_id  dayofmonth  dayofweek  ...  visit_date  visitors  week\n",
              "0  air_ba937bf13d40fb24          13          2  ...  2016-01-13      25.0     2\n",
              "1  air_ba937bf13d40fb24          14          3  ...  2016-01-14      32.0     2\n",
              "2  air_ba937bf13d40fb24          15          4  ...  2016-01-15      29.0     2\n",
              "3  air_ba937bf13d40fb24          16          5  ...  2016-01-16      22.0     2\n",
              "4  air_ba937bf13d40fb24          18          0  ...  2016-01-18       6.0     3\n",
              "\n",
              "[5 rows x 11 columns]"
            ]
          },
          "metadata": {
            "tags": []
          },
          "execution_count": 19
        }
      ]
    },
    {
      "cell_type": "markdown",
      "metadata": {
        "id": "AR9ZFxoJ2WFn",
        "colab_type": "text"
      },
      "source": [
        "Now we can combine all information together and get our training and test data.\n",
        "\n",
        "We have each of the 150 restaurants and a corresponding day for every time the store was open."
      ]
    },
    {
      "cell_type": "code",
      "metadata": {
        "id": "oVkvDezM2lBB",
        "colab_type": "code",
        "outputId": "fad30453-d108-47df-e669-14b05b1766ef",
        "colab": {
          "base_uri": "https://localhost:8080/",
          "height": 309
        }
      },
      "source": [
        "# all_stores table has all store information.\n",
        "air_all_date = pd.merge(air_visit, date_info, on = 'visit_date', how = 'left').sort_index()\n",
        "all_stores = pd.merge(air_all_date,all_stores, on = 'air_store_id', how = 'left')\n",
        "all_stores.head()"
      ],
      "execution_count": 0,
      "outputs": [
        {
          "output_type": "execute_result",
          "data": {
            "text/html": [
              "<div>\n",
              "<style scoped>\n",
              "    .dataframe tbody tr th:only-of-type {\n",
              "        vertical-align: middle;\n",
              "    }\n",
              "\n",
              "    .dataframe tbody tr th {\n",
              "        vertical-align: top;\n",
              "    }\n",
              "\n",
              "    .dataframe thead th {\n",
              "        text-align: right;\n",
              "    }\n",
              "</style>\n",
              "<table border=\"1\" class=\"dataframe\">\n",
              "  <thead>\n",
              "    <tr style=\"text-align: right;\">\n",
              "      <th></th>\n",
              "      <th>air_store_id</th>\n",
              "      <th>dayofmonth</th>\n",
              "      <th>dayofweek</th>\n",
              "      <th>daysToPrev25th</th>\n",
              "      <th>daysinPrevmonth</th>\n",
              "      <th>is_test</th>\n",
              "      <th>month</th>\n",
              "      <th>season</th>\n",
              "      <th>visit_date</th>\n",
              "      <th>visitors</th>\n",
              "      <th>week</th>\n",
              "      <th>day_of_week</th>\n",
              "      <th>is_holiday</th>\n",
              "      <th>prev_day</th>\n",
              "      <th>next_day</th>\n",
              "      <th>hpg_store_id</th>\n",
              "      <th>hpg_genre_name</th>\n",
              "      <th>air_genre_name</th>\n",
              "      <th>latitude</th>\n",
              "      <th>longitude</th>\n",
              "      <th>geo1</th>\n",
              "      <th>geo2</th>\n",
              "      <th>population</th>\n",
              "      <th>density</th>\n",
              "      <th>Food_Type</th>\n",
              "      <th>Dining_Cat</th>\n",
              "    </tr>\n",
              "  </thead>\n",
              "  <tbody>\n",
              "    <tr>\n",
              "      <th>0</th>\n",
              "      <td>air_ba937bf13d40fb24</td>\n",
              "      <td>13</td>\n",
              "      <td>2</td>\n",
              "      <td>19</td>\n",
              "      <td>31</td>\n",
              "      <td>False</td>\n",
              "      <td>1</td>\n",
              "      <td>winter</td>\n",
              "      <td>2016-01-13</td>\n",
              "      <td>25.0</td>\n",
              "      <td>2</td>\n",
              "      <td>Wednesday</td>\n",
              "      <td>0</td>\n",
              "      <td>0.0</td>\n",
              "      <td>0.0</td>\n",
              "      <td>NaN</td>\n",
              "      <td>NaN</td>\n",
              "      <td>Dining bar</td>\n",
              "      <td>35.658068</td>\n",
              "      <td>139.751599</td>\n",
              "      <td>Tokyo-to</td>\n",
              "      <td>Minato-ku</td>\n",
              "      <td>2.7</td>\n",
              "      <td>11.9</td>\n",
              "      <td>Bars</td>\n",
              "      <td>Drinks</td>\n",
              "    </tr>\n",
              "    <tr>\n",
              "      <th>1</th>\n",
              "      <td>air_ba937bf13d40fb24</td>\n",
              "      <td>14</td>\n",
              "      <td>3</td>\n",
              "      <td>20</td>\n",
              "      <td>31</td>\n",
              "      <td>False</td>\n",
              "      <td>1</td>\n",
              "      <td>winter</td>\n",
              "      <td>2016-01-14</td>\n",
              "      <td>32.0</td>\n",
              "      <td>2</td>\n",
              "      <td>Thursday</td>\n",
              "      <td>0</td>\n",
              "      <td>0.0</td>\n",
              "      <td>0.0</td>\n",
              "      <td>NaN</td>\n",
              "      <td>NaN</td>\n",
              "      <td>Dining bar</td>\n",
              "      <td>35.658068</td>\n",
              "      <td>139.751599</td>\n",
              "      <td>Tokyo-to</td>\n",
              "      <td>Minato-ku</td>\n",
              "      <td>2.7</td>\n",
              "      <td>11.9</td>\n",
              "      <td>Bars</td>\n",
              "      <td>Drinks</td>\n",
              "    </tr>\n",
              "    <tr>\n",
              "      <th>2</th>\n",
              "      <td>air_ba937bf13d40fb24</td>\n",
              "      <td>15</td>\n",
              "      <td>4</td>\n",
              "      <td>21</td>\n",
              "      <td>31</td>\n",
              "      <td>False</td>\n",
              "      <td>1</td>\n",
              "      <td>winter</td>\n",
              "      <td>2016-01-15</td>\n",
              "      <td>29.0</td>\n",
              "      <td>2</td>\n",
              "      <td>Friday</td>\n",
              "      <td>0</td>\n",
              "      <td>0.0</td>\n",
              "      <td>0.0</td>\n",
              "      <td>NaN</td>\n",
              "      <td>NaN</td>\n",
              "      <td>Dining bar</td>\n",
              "      <td>35.658068</td>\n",
              "      <td>139.751599</td>\n",
              "      <td>Tokyo-to</td>\n",
              "      <td>Minato-ku</td>\n",
              "      <td>2.7</td>\n",
              "      <td>11.9</td>\n",
              "      <td>Bars</td>\n",
              "      <td>Drinks</td>\n",
              "    </tr>\n",
              "    <tr>\n",
              "      <th>3</th>\n",
              "      <td>air_ba937bf13d40fb24</td>\n",
              "      <td>16</td>\n",
              "      <td>5</td>\n",
              "      <td>22</td>\n",
              "      <td>31</td>\n",
              "      <td>False</td>\n",
              "      <td>1</td>\n",
              "      <td>winter</td>\n",
              "      <td>2016-01-16</td>\n",
              "      <td>22.0</td>\n",
              "      <td>2</td>\n",
              "      <td>Saturday</td>\n",
              "      <td>0</td>\n",
              "      <td>0.0</td>\n",
              "      <td>0.0</td>\n",
              "      <td>NaN</td>\n",
              "      <td>NaN</td>\n",
              "      <td>Dining bar</td>\n",
              "      <td>35.658068</td>\n",
              "      <td>139.751599</td>\n",
              "      <td>Tokyo-to</td>\n",
              "      <td>Minato-ku</td>\n",
              "      <td>2.7</td>\n",
              "      <td>11.9</td>\n",
              "      <td>Bars</td>\n",
              "      <td>Drinks</td>\n",
              "    </tr>\n",
              "    <tr>\n",
              "      <th>4</th>\n",
              "      <td>air_ba937bf13d40fb24</td>\n",
              "      <td>18</td>\n",
              "      <td>0</td>\n",
              "      <td>24</td>\n",
              "      <td>31</td>\n",
              "      <td>False</td>\n",
              "      <td>1</td>\n",
              "      <td>winter</td>\n",
              "      <td>2016-01-18</td>\n",
              "      <td>6.0</td>\n",
              "      <td>3</td>\n",
              "      <td>Monday</td>\n",
              "      <td>0</td>\n",
              "      <td>0.0</td>\n",
              "      <td>0.0</td>\n",
              "      <td>NaN</td>\n",
              "      <td>NaN</td>\n",
              "      <td>Dining bar</td>\n",
              "      <td>35.658068</td>\n",
              "      <td>139.751599</td>\n",
              "      <td>Tokyo-to</td>\n",
              "      <td>Minato-ku</td>\n",
              "      <td>2.7</td>\n",
              "      <td>11.9</td>\n",
              "      <td>Bars</td>\n",
              "      <td>Drinks</td>\n",
              "    </tr>\n",
              "  </tbody>\n",
              "</table>\n",
              "</div>"
            ],
            "text/plain": [
              "           air_store_id  dayofmonth  dayofweek  ...  density  Food_Type  Dining_Cat\n",
              "0  air_ba937bf13d40fb24          13          2  ...     11.9       Bars      Drinks\n",
              "1  air_ba937bf13d40fb24          14          3  ...     11.9       Bars      Drinks\n",
              "2  air_ba937bf13d40fb24          15          4  ...     11.9       Bars      Drinks\n",
              "3  air_ba937bf13d40fb24          16          5  ...     11.9       Bars      Drinks\n",
              "4  air_ba937bf13d40fb24          18          0  ...     11.9       Bars      Drinks\n",
              "\n",
              "[5 rows x 26 columns]"
            ]
          },
          "metadata": {
            "tags": []
          },
          "execution_count": 20
        }
      ]
    },
    {
      "cell_type": "markdown",
      "metadata": {
        "id": "rVJWeb03GuVo",
        "colab_type": "text"
      },
      "source": [
        "Let's calculate the total reserved visitor numbers for each store for each day. If the reserved records exist both in air and hpg system, we summed two number up. If there the records missing in one system, we will use the values from another system. If we don't have any records in both systems, it will return us NAN. "
      ]
    },
    {
      "cell_type": "code",
      "metadata": {
        "id": "TXK7KLVWxm8B",
        "colab_type": "code",
        "outputId": "bb460a0a-97f7-4f82-acce-1376ac2ec225",
        "colab": {
          "base_uri": "https://localhost:8080/",
          "height": 309
        }
      },
      "source": [
        "final = all_stores[['visit_date','air_store_id', 'geo1', 'population', 'density', 'Food_Type','Dining_Cat', 'day_of_week', 'is_holiday', 'next_day','prev_day','is_test','visitors', 'month', 'season','week', 'daysToPrev25th','latitude','longitude']]\n",
        "final.head()"
      ],
      "execution_count": 0,
      "outputs": [
        {
          "output_type": "execute_result",
          "data": {
            "text/html": [
              "<div>\n",
              "<style scoped>\n",
              "    .dataframe tbody tr th:only-of-type {\n",
              "        vertical-align: middle;\n",
              "    }\n",
              "\n",
              "    .dataframe tbody tr th {\n",
              "        vertical-align: top;\n",
              "    }\n",
              "\n",
              "    .dataframe thead th {\n",
              "        text-align: right;\n",
              "    }\n",
              "</style>\n",
              "<table border=\"1\" class=\"dataframe\">\n",
              "  <thead>\n",
              "    <tr style=\"text-align: right;\">\n",
              "      <th></th>\n",
              "      <th>visit_date</th>\n",
              "      <th>air_store_id</th>\n",
              "      <th>geo1</th>\n",
              "      <th>population</th>\n",
              "      <th>density</th>\n",
              "      <th>Food_Type</th>\n",
              "      <th>Dining_Cat</th>\n",
              "      <th>day_of_week</th>\n",
              "      <th>is_holiday</th>\n",
              "      <th>next_day</th>\n",
              "      <th>prev_day</th>\n",
              "      <th>is_test</th>\n",
              "      <th>visitors</th>\n",
              "      <th>month</th>\n",
              "      <th>season</th>\n",
              "      <th>week</th>\n",
              "      <th>daysToPrev25th</th>\n",
              "      <th>latitude</th>\n",
              "      <th>longitude</th>\n",
              "    </tr>\n",
              "  </thead>\n",
              "  <tbody>\n",
              "    <tr>\n",
              "      <th>0</th>\n",
              "      <td>2016-01-13</td>\n",
              "      <td>air_ba937bf13d40fb24</td>\n",
              "      <td>Tokyo-to</td>\n",
              "      <td>2.7</td>\n",
              "      <td>11.9</td>\n",
              "      <td>Bars</td>\n",
              "      <td>Drinks</td>\n",
              "      <td>Wednesday</td>\n",
              "      <td>0</td>\n",
              "      <td>0.0</td>\n",
              "      <td>0.0</td>\n",
              "      <td>False</td>\n",
              "      <td>25.0</td>\n",
              "      <td>1</td>\n",
              "      <td>winter</td>\n",
              "      <td>2</td>\n",
              "      <td>19</td>\n",
              "      <td>35.658068</td>\n",
              "      <td>139.751599</td>\n",
              "    </tr>\n",
              "    <tr>\n",
              "      <th>1</th>\n",
              "      <td>2016-01-14</td>\n",
              "      <td>air_ba937bf13d40fb24</td>\n",
              "      <td>Tokyo-to</td>\n",
              "      <td>2.7</td>\n",
              "      <td>11.9</td>\n",
              "      <td>Bars</td>\n",
              "      <td>Drinks</td>\n",
              "      <td>Thursday</td>\n",
              "      <td>0</td>\n",
              "      <td>0.0</td>\n",
              "      <td>0.0</td>\n",
              "      <td>False</td>\n",
              "      <td>32.0</td>\n",
              "      <td>1</td>\n",
              "      <td>winter</td>\n",
              "      <td>2</td>\n",
              "      <td>20</td>\n",
              "      <td>35.658068</td>\n",
              "      <td>139.751599</td>\n",
              "    </tr>\n",
              "    <tr>\n",
              "      <th>2</th>\n",
              "      <td>2016-01-15</td>\n",
              "      <td>air_ba937bf13d40fb24</td>\n",
              "      <td>Tokyo-to</td>\n",
              "      <td>2.7</td>\n",
              "      <td>11.9</td>\n",
              "      <td>Bars</td>\n",
              "      <td>Drinks</td>\n",
              "      <td>Friday</td>\n",
              "      <td>0</td>\n",
              "      <td>0.0</td>\n",
              "      <td>0.0</td>\n",
              "      <td>False</td>\n",
              "      <td>29.0</td>\n",
              "      <td>1</td>\n",
              "      <td>winter</td>\n",
              "      <td>2</td>\n",
              "      <td>21</td>\n",
              "      <td>35.658068</td>\n",
              "      <td>139.751599</td>\n",
              "    </tr>\n",
              "    <tr>\n",
              "      <th>3</th>\n",
              "      <td>2016-01-16</td>\n",
              "      <td>air_ba937bf13d40fb24</td>\n",
              "      <td>Tokyo-to</td>\n",
              "      <td>2.7</td>\n",
              "      <td>11.9</td>\n",
              "      <td>Bars</td>\n",
              "      <td>Drinks</td>\n",
              "      <td>Saturday</td>\n",
              "      <td>0</td>\n",
              "      <td>0.0</td>\n",
              "      <td>0.0</td>\n",
              "      <td>False</td>\n",
              "      <td>22.0</td>\n",
              "      <td>1</td>\n",
              "      <td>winter</td>\n",
              "      <td>2</td>\n",
              "      <td>22</td>\n",
              "      <td>35.658068</td>\n",
              "      <td>139.751599</td>\n",
              "    </tr>\n",
              "    <tr>\n",
              "      <th>4</th>\n",
              "      <td>2016-01-18</td>\n",
              "      <td>air_ba937bf13d40fb24</td>\n",
              "      <td>Tokyo-to</td>\n",
              "      <td>2.7</td>\n",
              "      <td>11.9</td>\n",
              "      <td>Bars</td>\n",
              "      <td>Drinks</td>\n",
              "      <td>Monday</td>\n",
              "      <td>0</td>\n",
              "      <td>0.0</td>\n",
              "      <td>0.0</td>\n",
              "      <td>False</td>\n",
              "      <td>6.0</td>\n",
              "      <td>1</td>\n",
              "      <td>winter</td>\n",
              "      <td>3</td>\n",
              "      <td>24</td>\n",
              "      <td>35.658068</td>\n",
              "      <td>139.751599</td>\n",
              "    </tr>\n",
              "  </tbody>\n",
              "</table>\n",
              "</div>"
            ],
            "text/plain": [
              "   visit_date          air_store_id  ...   latitude   longitude\n",
              "0  2016-01-13  air_ba937bf13d40fb24  ...  35.658068  139.751599\n",
              "1  2016-01-14  air_ba937bf13d40fb24  ...  35.658068  139.751599\n",
              "2  2016-01-15  air_ba937bf13d40fb24  ...  35.658068  139.751599\n",
              "3  2016-01-16  air_ba937bf13d40fb24  ...  35.658068  139.751599\n",
              "4  2016-01-18  air_ba937bf13d40fb24  ...  35.658068  139.751599\n",
              "\n",
              "[5 rows x 19 columns]"
            ]
          },
          "metadata": {
            "tags": []
          },
          "execution_count": 21
        }
      ]
    },
    {
      "cell_type": "code",
      "metadata": {
        "id": "BUmJwt5t2a-c",
        "colab_type": "code",
        "outputId": "5e97cbbc-b554-4276-f5d3-063a151c69f5",
        "colab": {
          "base_uri": "https://localhost:8080/",
          "height": 309
        }
      },
      "source": [
        "# CODE TO MAP PREV YEAR TO CURRENT YEAR\n",
        "final['visit_date'] = pd.to_datetime(final['visit_date'])\n",
        "final['prev_visitors'] = final.groupby([final['visit_date'].dt.week, final['visit_date'].dt.weekday])['visitors'].shift()\n",
        "final.head()"
      ],
      "execution_count": 0,
      "outputs": [
        {
          "output_type": "execute_result",
          "data": {
            "text/html": [
              "<div>\n",
              "<style scoped>\n",
              "    .dataframe tbody tr th:only-of-type {\n",
              "        vertical-align: middle;\n",
              "    }\n",
              "\n",
              "    .dataframe tbody tr th {\n",
              "        vertical-align: top;\n",
              "    }\n",
              "\n",
              "    .dataframe thead th {\n",
              "        text-align: right;\n",
              "    }\n",
              "</style>\n",
              "<table border=\"1\" class=\"dataframe\">\n",
              "  <thead>\n",
              "    <tr style=\"text-align: right;\">\n",
              "      <th></th>\n",
              "      <th>visit_date</th>\n",
              "      <th>air_store_id</th>\n",
              "      <th>geo1</th>\n",
              "      <th>population</th>\n",
              "      <th>density</th>\n",
              "      <th>Food_Type</th>\n",
              "      <th>Dining_Cat</th>\n",
              "      <th>day_of_week</th>\n",
              "      <th>is_holiday</th>\n",
              "      <th>next_day</th>\n",
              "      <th>prev_day</th>\n",
              "      <th>is_test</th>\n",
              "      <th>visitors</th>\n",
              "      <th>month</th>\n",
              "      <th>season</th>\n",
              "      <th>week</th>\n",
              "      <th>daysToPrev25th</th>\n",
              "      <th>latitude</th>\n",
              "      <th>longitude</th>\n",
              "      <th>prev_visitors</th>\n",
              "    </tr>\n",
              "  </thead>\n",
              "  <tbody>\n",
              "    <tr>\n",
              "      <th>0</th>\n",
              "      <td>2016-01-13</td>\n",
              "      <td>air_ba937bf13d40fb24</td>\n",
              "      <td>Tokyo-to</td>\n",
              "      <td>2.7</td>\n",
              "      <td>11.9</td>\n",
              "      <td>Bars</td>\n",
              "      <td>Drinks</td>\n",
              "      <td>Wednesday</td>\n",
              "      <td>0</td>\n",
              "      <td>0.0</td>\n",
              "      <td>0.0</td>\n",
              "      <td>False</td>\n",
              "      <td>25.0</td>\n",
              "      <td>1</td>\n",
              "      <td>winter</td>\n",
              "      <td>2</td>\n",
              "      <td>19</td>\n",
              "      <td>35.658068</td>\n",
              "      <td>139.751599</td>\n",
              "      <td>NaN</td>\n",
              "    </tr>\n",
              "    <tr>\n",
              "      <th>1</th>\n",
              "      <td>2016-01-14</td>\n",
              "      <td>air_ba937bf13d40fb24</td>\n",
              "      <td>Tokyo-to</td>\n",
              "      <td>2.7</td>\n",
              "      <td>11.9</td>\n",
              "      <td>Bars</td>\n",
              "      <td>Drinks</td>\n",
              "      <td>Thursday</td>\n",
              "      <td>0</td>\n",
              "      <td>0.0</td>\n",
              "      <td>0.0</td>\n",
              "      <td>False</td>\n",
              "      <td>32.0</td>\n",
              "      <td>1</td>\n",
              "      <td>winter</td>\n",
              "      <td>2</td>\n",
              "      <td>20</td>\n",
              "      <td>35.658068</td>\n",
              "      <td>139.751599</td>\n",
              "      <td>NaN</td>\n",
              "    </tr>\n",
              "    <tr>\n",
              "      <th>2</th>\n",
              "      <td>2016-01-15</td>\n",
              "      <td>air_ba937bf13d40fb24</td>\n",
              "      <td>Tokyo-to</td>\n",
              "      <td>2.7</td>\n",
              "      <td>11.9</td>\n",
              "      <td>Bars</td>\n",
              "      <td>Drinks</td>\n",
              "      <td>Friday</td>\n",
              "      <td>0</td>\n",
              "      <td>0.0</td>\n",
              "      <td>0.0</td>\n",
              "      <td>False</td>\n",
              "      <td>29.0</td>\n",
              "      <td>1</td>\n",
              "      <td>winter</td>\n",
              "      <td>2</td>\n",
              "      <td>21</td>\n",
              "      <td>35.658068</td>\n",
              "      <td>139.751599</td>\n",
              "      <td>NaN</td>\n",
              "    </tr>\n",
              "    <tr>\n",
              "      <th>3</th>\n",
              "      <td>2016-01-16</td>\n",
              "      <td>air_ba937bf13d40fb24</td>\n",
              "      <td>Tokyo-to</td>\n",
              "      <td>2.7</td>\n",
              "      <td>11.9</td>\n",
              "      <td>Bars</td>\n",
              "      <td>Drinks</td>\n",
              "      <td>Saturday</td>\n",
              "      <td>0</td>\n",
              "      <td>0.0</td>\n",
              "      <td>0.0</td>\n",
              "      <td>False</td>\n",
              "      <td>22.0</td>\n",
              "      <td>1</td>\n",
              "      <td>winter</td>\n",
              "      <td>2</td>\n",
              "      <td>22</td>\n",
              "      <td>35.658068</td>\n",
              "      <td>139.751599</td>\n",
              "      <td>NaN</td>\n",
              "    </tr>\n",
              "    <tr>\n",
              "      <th>4</th>\n",
              "      <td>2016-01-18</td>\n",
              "      <td>air_ba937bf13d40fb24</td>\n",
              "      <td>Tokyo-to</td>\n",
              "      <td>2.7</td>\n",
              "      <td>11.9</td>\n",
              "      <td>Bars</td>\n",
              "      <td>Drinks</td>\n",
              "      <td>Monday</td>\n",
              "      <td>0</td>\n",
              "      <td>0.0</td>\n",
              "      <td>0.0</td>\n",
              "      <td>False</td>\n",
              "      <td>6.0</td>\n",
              "      <td>1</td>\n",
              "      <td>winter</td>\n",
              "      <td>3</td>\n",
              "      <td>24</td>\n",
              "      <td>35.658068</td>\n",
              "      <td>139.751599</td>\n",
              "      <td>NaN</td>\n",
              "    </tr>\n",
              "  </tbody>\n",
              "</table>\n",
              "</div>"
            ],
            "text/plain": [
              "  visit_date          air_store_id  ...   longitude  prev_visitors\n",
              "0 2016-01-13  air_ba937bf13d40fb24  ...  139.751599            NaN\n",
              "1 2016-01-14  air_ba937bf13d40fb24  ...  139.751599            NaN\n",
              "2 2016-01-15  air_ba937bf13d40fb24  ...  139.751599            NaN\n",
              "3 2016-01-16  air_ba937bf13d40fb24  ...  139.751599            NaN\n",
              "4 2016-01-18  air_ba937bf13d40fb24  ...  139.751599            NaN\n",
              "\n",
              "[5 rows x 20 columns]"
            ]
          },
          "metadata": {
            "tags": []
          },
          "execution_count": 22
        }
      ]
    },
    {
      "cell_type": "code",
      "metadata": {
        "id": "rsJhj5nqRrXA",
        "colab_type": "code",
        "colab": {}
      },
      "source": [
        "train = final[final.is_test == False].drop('is_test',1)\n",
        "test = final[final.is_test == True].drop('is_test',1)"
      ],
      "execution_count": 0,
      "outputs": []
    },
    {
      "cell_type": "code",
      "metadata": {
        "id": "JP_Uy0FPNwF5",
        "colab_type": "code",
        "outputId": "a68eb453-b9c7-4e60-f35e-5a1a8d9aca48",
        "colab": {
          "base_uri": "https://localhost:8080/",
          "height": 357
        }
      },
      "source": [
        "train.isna().sum()"
      ],
      "execution_count": 0,
      "outputs": [
        {
          "output_type": "execute_result",
          "data": {
            "text/plain": [
              "visit_date          0\n",
              "air_store_id        0\n",
              "geo1                0\n",
              "population          0\n",
              "density             0\n",
              "Food_Type           0\n",
              "Dining_Cat          0\n",
              "day_of_week         0\n",
              "is_holiday          0\n",
              "next_day            0\n",
              "prev_day            0\n",
              "visitors            0\n",
              "month               0\n",
              "season              0\n",
              "week                0\n",
              "daysToPrev25th      0\n",
              "latitude            0\n",
              "longitude           0\n",
              "prev_visitors     367\n",
              "dtype: int64"
            ]
          },
          "metadata": {
            "tags": []
          },
          "execution_count": 102
        }
      ]
    },
    {
      "cell_type": "markdown",
      "metadata": {
        "id": "DRedoI2pujnB",
        "colab_type": "text"
      },
      "source": [
        "# 4 - Data Cleaning"
      ]
    },
    {
      "cell_type": "markdown",
      "metadata": {
        "id": "e7h196eNunMB",
        "colab_type": "text"
      },
      "source": [
        "## Outlier Detection"
      ]
    },
    {
      "cell_type": "markdown",
      "metadata": {
        "id": "bYeV8jXEzyIa",
        "colab_type": "text"
      },
      "source": [
        "As we can see, the number of visitors is highly left skewed and the max number reached 877 which seems unreasonable. These values might be outliers. \n",
        "\n",
        "We simply define outliers using the following rules:\n",
        "\n",
        "* Data point that falls outside of 1.5 times of an interquartile range above the 3rd quartile and below the 1st quartile\n",
        "\n",
        "* Data point that falls outside of 3 standard deviations. "
      ]
    },
    {
      "cell_type": "code",
      "metadata": {
        "colab_type": "code",
        "id": "O8yNz2_ZztYF",
        "outputId": "7665fef0-8b59-4e98-f170-ae627cc7467e",
        "colab": {
          "base_uri": "https://localhost:8080/",
          "height": 432
        }
      },
      "source": [
        "import seaborn as sns\n",
        "sns.distplot(train.visitors)\n",
        "train.describe()['visitors']"
      ],
      "execution_count": 0,
      "outputs": [
        {
          "output_type": "execute_result",
          "data": {
            "text/plain": [
              "count    252108.000000\n",
              "mean         20.973761\n",
              "std          16.757007\n",
              "min           1.000000\n",
              "25%           9.000000\n",
              "50%          17.000000\n",
              "75%          29.000000\n",
              "max         877.000000\n",
              "Name: visitors, dtype: float64"
            ]
          },
          "metadata": {
            "tags": []
          },
          "execution_count": 50
        },
        {
          "output_type": "display_data",
          "data": {
            "image/png": "[encoded data removed]",
            "text/plain": [
              "<Figure size 432x288 with 1 Axes>"
            ]
          },
          "metadata": {
            "tags": []
          }
        }
      ]
    },
    {
      "cell_type": "markdown",
      "metadata": {
        "id": "gUVZ5snc3EnN",
        "colab_type": "text"
      },
      "source": [
        "So we only need to:\n",
        "*   Arrange the data in increasing order\n",
        "*   Calculate first(q1) and third quartile(q3)\n",
        "*   Find interquartile range (q3-q1)\n",
        "*   Find lower bound q1\\*1.5, Find upper bound q3*1.5\n",
        "\n"
      ]
    },
    {
      "cell_type": "code",
      "metadata": {
        "id": "MiEK9dsu3D1e",
        "colab_type": "code",
        "outputId": "8f9d0fc3-5049-4fd0-ea4b-719d5850b5da",
        "colab": {
          "base_uri": "https://localhost:8080/",
          "height": 51
        }
      },
      "source": [
        "train = train.sort_values(by = 'visitors')\n",
        "#q1, q3= np.percentile(train.visitors,[25,75])\n",
        "#iqr = q3 - q1\n",
        "#lower_bound = q1 -(2 * iqr) \n",
        "#upper_bound = q3 +(2 * iqr)\n",
        "#print('The lower bound of visitors is {:.2f}'.format(lower_bound))\n",
        "#print('The upper bound of visitors is {:.2f}'.format(upper_bound))"
      ],
      "execution_count": 0,
      "outputs": [
        {
          "output_type": "stream",
          "text": [
            "The lower bound of visitors is -31.00\n",
            "The upper bound of visitors is 69.00\n"
          ],
          "name": "stdout"
        }
      ]
    },
    {
      "cell_type": "markdown",
      "metadata": {
        "id": "SpNLW_5h4-2M",
        "colab_type": "text"
      },
      "source": [
        "The min number of visitors should be 0 under the context. So we don't need to deal with values that are less than 0. And we use the upper bound value to substitude the outliers rather than remove them."
      ]
    },
    {
      "cell_type": "code",
      "metadata": {
        "id": "9BNY8zRRkkth",
        "colab_type": "code",
        "outputId": "1a2a7fa1-e62b-4e50-81a2-3cd5b9839b3f",
        "colab": {
          "base_uri": "https://localhost:8080/",
          "height": 34
        }
      },
      "source": [
        "# len(train.loc[train.visitors > 300 ,'visitors'])"
      ],
      "execution_count": 0,
      "outputs": [
        {
          "output_type": "execute_result",
          "data": {
            "text/plain": [
              "16"
            ]
          },
          "metadata": {
            "tags": []
          },
          "execution_count": 100
        }
      ]
    },
    {
      "cell_type": "code",
      "metadata": {
        "id": "qCQR95-P3gtl",
        "colab_type": "code",
        "colab": {}
      },
      "source": [
        "  train.loc[train.visitors > upper_bound ,'visitors'] = -1\n",
        "  train = train[train['visitors'] >= 0]"
      ],
      "execution_count": 0,
      "outputs": []
    },
    {
      "cell_type": "code",
      "metadata": {
        "id": "l2xQCpor323E",
        "colab_type": "code",
        "outputId": "c407bcc3-f00f-4aea-8e9c-9dfd0879698f",
        "colab": {
          "base_uri": "https://localhost:8080/",
          "height": 296
        }
      },
      "source": [
        "sns.distplot(train.visitors)"
      ],
      "execution_count": 0,
      "outputs": [
        {
          "output_type": "execute_result",
          "data": {
            "text/plain": [
              "<matplotlib.axes._subplots.AxesSubplot at 0x7f9d4891c208>"
            ]
          },
          "metadata": {
            "tags": []
          },
          "execution_count": 28
        },
        {
          "output_type": "display_data",
          "data": {
            "image/png": "[encoded data removed]",
            "text/plain": [
              "<Figure size 432x288 with 1 Axes>"
            ]
          },
          "metadata": {
            "tags": []
          }
        }
      ]
    },
    {
      "cell_type": "code",
      "metadata": {
        "id": "MkIT7Dxl9gVP",
        "colab_type": "code",
        "outputId": "3a02d8dd-8707-444b-e9c0-0645a41422f7",
        "colab": {
          "base_uri": "https://localhost:8080/",
          "height": 473
        }
      },
      "source": [
        "train"
      ],
      "execution_count": 0,
      "outputs": [
        {
          "output_type": "execute_result",
          "data": {
            "text/html": [
              "<div>\n",
              "<style scoped>\n",
              "    .dataframe tbody tr th:only-of-type {\n",
              "        vertical-align: middle;\n",
              "    }\n",
              "\n",
              "    .dataframe tbody tr th {\n",
              "        vertical-align: top;\n",
              "    }\n",
              "\n",
              "    .dataframe thead th {\n",
              "        text-align: right;\n",
              "    }\n",
              "</style>\n",
              "<table border=\"1\" class=\"dataframe\">\n",
              "  <thead>\n",
              "    <tr style=\"text-align: right;\">\n",
              "      <th></th>\n",
              "      <th>visit_date</th>\n",
              "      <th>air_store_id</th>\n",
              "      <th>geo1</th>\n",
              "      <th>population</th>\n",
              "      <th>density</th>\n",
              "      <th>Food_Type</th>\n",
              "      <th>Dining_Cat</th>\n",
              "      <th>day_of_week</th>\n",
              "      <th>is_holiday</th>\n",
              "      <th>next_day</th>\n",
              "      <th>prev_day</th>\n",
              "      <th>visitors</th>\n",
              "      <th>month</th>\n",
              "      <th>season</th>\n",
              "      <th>week</th>\n",
              "      <th>daysToPrev25th</th>\n",
              "      <th>latitude</th>\n",
              "      <th>longitude</th>\n",
              "      <th>prev_visitors</th>\n",
              "    </tr>\n",
              "  </thead>\n",
              "  <tbody>\n",
              "    <tr>\n",
              "      <th>51576</th>\n",
              "      <td>2016-02-08</td>\n",
              "      <td>air_1f7f8fa557bc0d55</td>\n",
              "      <td>Osaka-fu</td>\n",
              "      <td>1.2</td>\n",
              "      <td>5.4</td>\n",
              "      <td>Bars</td>\n",
              "      <td>Drinks</td>\n",
              "      <td>Monday</td>\n",
              "      <td>0</td>\n",
              "      <td>0.0</td>\n",
              "      <td>0.0</td>\n",
              "      <td>1.0</td>\n",
              "      <td>2</td>\n",
              "      <td>winter</td>\n",
              "      <td>6</td>\n",
              "      <td>14</td>\n",
              "      <td>34.766093</td>\n",
              "      <td>135.628100</td>\n",
              "      <td>3.0</td>\n",
              "    </tr>\n",
              "    <tr>\n",
              "      <th>88861</th>\n",
              "      <td>2016-08-01</td>\n",
              "      <td>air_caf996ac27206301</td>\n",
              "      <td>Tokyo-to</td>\n",
              "      <td>2.7</td>\n",
              "      <td>11.9</td>\n",
              "      <td>Bars</td>\n",
              "      <td>Drinks</td>\n",
              "      <td>Monday</td>\n",
              "      <td>0</td>\n",
              "      <td>0.0</td>\n",
              "      <td>0.0</td>\n",
              "      <td>1.0</td>\n",
              "      <td>8</td>\n",
              "      <td>summer</td>\n",
              "      <td>31</td>\n",
              "      <td>7</td>\n",
              "      <td>35.735623</td>\n",
              "      <td>139.651658</td>\n",
              "      <td>50.0</td>\n",
              "    </tr>\n",
              "    <tr>\n",
              "      <th>248439</th>\n",
              "      <td>2016-01-29</td>\n",
              "      <td>air_bfafaed35e213fd7</td>\n",
              "      <td>Tokyo-to</td>\n",
              "      <td>2.7</td>\n",
              "      <td>11.9</td>\n",
              "      <td>European</td>\n",
              "      <td>Food</td>\n",
              "      <td>Friday</td>\n",
              "      <td>0</td>\n",
              "      <td>0.0</td>\n",
              "      <td>0.0</td>\n",
              "      <td>1.0</td>\n",
              "      <td>1</td>\n",
              "      <td>winter</td>\n",
              "      <td>4</td>\n",
              "      <td>4</td>\n",
              "      <td>35.629564</td>\n",
              "      <td>139.684992</td>\n",
              "      <td>8.0</td>\n",
              "    </tr>\n",
              "    <tr>\n",
              "      <th>130124</th>\n",
              "      <td>2016-09-14</td>\n",
              "      <td>air_95e917913cd988f3</td>\n",
              "      <td>Osaka-fu</td>\n",
              "      <td>1.2</td>\n",
              "      <td>5.4</td>\n",
              "      <td>Cafe</td>\n",
              "      <td>Food</td>\n",
              "      <td>Wednesday</td>\n",
              "      <td>0</td>\n",
              "      <td>0.0</td>\n",
              "      <td>0.0</td>\n",
              "      <td>1.0</td>\n",
              "      <td>9</td>\n",
              "      <td>autumn</td>\n",
              "      <td>37</td>\n",
              "      <td>20</td>\n",
              "      <td>34.681261</td>\n",
              "      <td>135.509801</td>\n",
              "      <td>16.0</td>\n",
              "    </tr>\n",
              "    <tr>\n",
              "      <th>123643</th>\n",
              "      <td>2017-01-24</td>\n",
              "      <td>air_a21ffca0bea1661a</td>\n",
              "      <td>Tokyo-to</td>\n",
              "      <td>2.7</td>\n",
              "      <td>11.9</td>\n",
              "      <td>Bars</td>\n",
              "      <td>Drinks</td>\n",
              "      <td>Tuesday</td>\n",
              "      <td>0</td>\n",
              "      <td>0.0</td>\n",
              "      <td>0.0</td>\n",
              "      <td>1.0</td>\n",
              "      <td>1</td>\n",
              "      <td>winter</td>\n",
              "      <td>4</td>\n",
              "      <td>30</td>\n",
              "      <td>35.693840</td>\n",
              "      <td>139.703549</td>\n",
              "      <td>16.0</td>\n",
              "    </tr>\n",
              "    <tr>\n",
              "      <th>...</th>\n",
              "      <td>...</td>\n",
              "      <td>...</td>\n",
              "      <td>...</td>\n",
              "      <td>...</td>\n",
              "      <td>...</td>\n",
              "      <td>...</td>\n",
              "      <td>...</td>\n",
              "      <td>...</td>\n",
              "      <td>...</td>\n",
              "      <td>...</td>\n",
              "      <td>...</td>\n",
              "      <td>...</td>\n",
              "      <td>...</td>\n",
              "      <td>...</td>\n",
              "      <td>...</td>\n",
              "      <td>...</td>\n",
              "      <td>...</td>\n",
              "      <td>...</td>\n",
              "      <td>...</td>\n",
              "    </tr>\n",
              "    <tr>\n",
              "      <th>143894</th>\n",
              "      <td>2016-01-24</td>\n",
              "      <td>air_43d577e0c9460e64</td>\n",
              "      <td>Hyogo-ken</td>\n",
              "      <td>1.1</td>\n",
              "      <td>1.3</td>\n",
              "      <td>Western/Create</td>\n",
              "      <td>Food</td>\n",
              "      <td>Sunday</td>\n",
              "      <td>0</td>\n",
              "      <td>0.0</td>\n",
              "      <td>0.0</td>\n",
              "      <td>59.0</td>\n",
              "      <td>1</td>\n",
              "      <td>winter</td>\n",
              "      <td>3</td>\n",
              "      <td>30</td>\n",
              "      <td>34.737597</td>\n",
              "      <td>135.341564</td>\n",
              "      <td>18.0</td>\n",
              "    </tr>\n",
              "    <tr>\n",
              "      <th>172123</th>\n",
              "      <td>2016-08-30</td>\n",
              "      <td>air_eca5e0064dc9314a</td>\n",
              "      <td>Fukuoka-ken</td>\n",
              "      <td>8.6</td>\n",
              "      <td>13.9</td>\n",
              "      <td>Cafe</td>\n",
              "      <td>Food</td>\n",
              "      <td>Tuesday</td>\n",
              "      <td>0</td>\n",
              "      <td>0.0</td>\n",
              "      <td>0.0</td>\n",
              "      <td>59.0</td>\n",
              "      <td>8</td>\n",
              "      <td>summer</td>\n",
              "      <td>35</td>\n",
              "      <td>5</td>\n",
              "      <td>33.589216</td>\n",
              "      <td>130.392813</td>\n",
              "      <td>17.0</td>\n",
              "    </tr>\n",
              "    <tr>\n",
              "      <th>72836</th>\n",
              "      <td>2016-07-10</td>\n",
              "      <td>air_f2985de32bb792e0</td>\n",
              "      <td>Tokyo-to</td>\n",
              "      <td>2.7</td>\n",
              "      <td>11.9</td>\n",
              "      <td>Izakaya</td>\n",
              "      <td>Drinks</td>\n",
              "      <td>Sunday</td>\n",
              "      <td>0</td>\n",
              "      <td>0.0</td>\n",
              "      <td>0.0</td>\n",
              "      <td>59.0</td>\n",
              "      <td>7</td>\n",
              "      <td>summer</td>\n",
              "      <td>27</td>\n",
              "      <td>15</td>\n",
              "      <td>35.561257</td>\n",
              "      <td>139.716051</td>\n",
              "      <td>22.0</td>\n",
              "    </tr>\n",
              "    <tr>\n",
              "      <th>214825</th>\n",
              "      <td>2017-04-18</td>\n",
              "      <td>air_8c3175aa5e4fc569</td>\n",
              "      <td>Tokyo-to</td>\n",
              "      <td>2.7</td>\n",
              "      <td>11.9</td>\n",
              "      <td>Bars</td>\n",
              "      <td>Drinks</td>\n",
              "      <td>Tuesday</td>\n",
              "      <td>0</td>\n",
              "      <td>0.0</td>\n",
              "      <td>0.0</td>\n",
              "      <td>59.0</td>\n",
              "      <td>4</td>\n",
              "      <td>spring</td>\n",
              "      <td>16</td>\n",
              "      <td>24</td>\n",
              "      <td>35.732286</td>\n",
              "      <td>139.710247</td>\n",
              "      <td>27.0</td>\n",
              "    </tr>\n",
              "    <tr>\n",
              "      <th>85314</th>\n",
              "      <td>2017-03-08</td>\n",
              "      <td>air_cfdeb326418194ff</td>\n",
              "      <td>Tokyo-to</td>\n",
              "      <td>2.7</td>\n",
              "      <td>11.9</td>\n",
              "      <td>Bars</td>\n",
              "      <td>Drinks</td>\n",
              "      <td>Wednesday</td>\n",
              "      <td>0</td>\n",
              "      <td>0.0</td>\n",
              "      <td>0.0</td>\n",
              "      <td>59.0</td>\n",
              "      <td>3</td>\n",
              "      <td>spring</td>\n",
              "      <td>10</td>\n",
              "      <td>11</td>\n",
              "      <td>35.726118</td>\n",
              "      <td>139.716605</td>\n",
              "      <td>31.0</td>\n",
              "    </tr>\n",
              "  </tbody>\n",
              "</table>\n",
              "<p>252108 rows × 19 columns</p>\n",
              "</div>"
            ],
            "text/plain": [
              "       visit_date          air_store_id  ...   longitude  prev_visitors\n",
              "51576  2016-02-08  air_1f7f8fa557bc0d55  ...  135.628100            3.0\n",
              "88861  2016-08-01  air_caf996ac27206301  ...  139.651658           50.0\n",
              "248439 2016-01-29  air_bfafaed35e213fd7  ...  139.684992            8.0\n",
              "130124 2016-09-14  air_95e917913cd988f3  ...  135.509801           16.0\n",
              "123643 2017-01-24  air_a21ffca0bea1661a  ...  139.703549           16.0\n",
              "...           ...                   ...  ...         ...            ...\n",
              "143894 2016-01-24  air_43d577e0c9460e64  ...  135.341564           18.0\n",
              "172123 2016-08-30  air_eca5e0064dc9314a  ...  130.392813           17.0\n",
              "72836  2016-07-10  air_f2985de32bb792e0  ...  139.716051           22.0\n",
              "214825 2017-04-18  air_8c3175aa5e4fc569  ...  139.710247           27.0\n",
              "85314  2017-03-08  air_cfdeb326418194ff  ...  139.716605           31.0\n",
              "\n",
              "[252108 rows x 19 columns]"
            ]
          },
          "metadata": {
            "tags": []
          },
          "execution_count": 29
        }
      ]
    },
    {
      "cell_type": "code",
      "metadata": {
        "colab_type": "code",
        "id": "c5kfc5sO9qyH",
        "colab": {}
      },
      "source": [
        "# # write the table\n",
        "# train.to_csv('/content/drive/Shared drives/Predictive Competition/recruit-restaurant-visitor-forecasting/final_train.csv')\n",
        "# test.to_csv('/content/drive/Shared drives/Predictive Competition/recruit-restaurant-visitor-forecasting/final_test.csv')"
      ],
      "execution_count": 0,
      "outputs": []
    },
    {
      "cell_type": "markdown",
      "metadata": {
        "id": "Fe-87Q_tum_a",
        "colab_type": "text"
      },
      "source": [
        "## Merge the final train and test table"
      ]
    },
    {
      "cell_type": "code",
      "metadata": {
        "id": "U4CPlX25_SU-",
        "colab_type": "code",
        "colab": {}
      },
      "source": [
        "train_ni = pd.read_csv(data_dir + 'train_Nina.csv',parse_dates=['visit_date'])"
      ],
      "execution_count": 0,
      "outputs": []
    },
    {
      "cell_type": "code",
      "metadata": {
        "id": "YudjHHOi_pXz",
        "colab_type": "code",
        "colab": {}
      },
      "source": [
        "test_ni = pd.read_csv(data_dir + 'test_Nina.csv',parse_dates=['visit_date'])"
      ],
      "execution_count": 0,
      "outputs": []
    },
    {
      "cell_type": "code",
      "metadata": {
        "id": "CnLI00uq_wbF",
        "colab_type": "code",
        "colab": {}
      },
      "source": [
        "train_final = pd.merge(train,train_ni, on = ['air_store_id','visit_date'],how='left')"
      ],
      "execution_count": 0,
      "outputs": []
    },
    {
      "cell_type": "code",
      "metadata": {
        "id": "GmwSqjM-ANQt",
        "colab_type": "code",
        "colab": {}
      },
      "source": [
        "test_final = pd.merge(test,test_ni, on = ['air_store_id','visit_date'],how='left')"
      ],
      "execution_count": 0,
      "outputs": []
    },
    {
      "cell_type": "code",
      "metadata": {
        "id": "aZPvrBm_bmrd",
        "colab_type": "code",
        "colab": {}
      },
      "source": [
        "train_final['Dining_yes'] = np.where(train_final['Dining_Cat'] == 'Food', 1, 0)\n",
        "test_final['Dining_yes'] = np.where(test_final['Dining_Cat'] == 'Food', 1, 0)"
      ],
      "execution_count": 0,
      "outputs": []
    },
    {
      "cell_type": "code",
      "metadata": {
        "id": "LrhKFTEjPyZM",
        "colab_type": "code",
        "colab": {}
      },
      "source": [
        "train_final.isna().sum()\n",
        "\n",
        "train_final = train_final[['visit_date', 'air_store_id', 'geo1','population','density', 'Food_Type','is_holiday', \n",
        "                           'next_day', 'prev_day', 'visitors_x','season', 'week', 'daysToPrev25th',\n",
        "                           'prev_visitors','year', 'month_y','Dining_yes',\n",
        "                           'day', 'min_visitors', 'mean_visitors', 'median_visitors',\n",
        "                           'max_visitors', 'count_observations', 'reserve_visitors', 'days_diff',\n",
        "                           'latitude_y', 'longitude_y', 'day_of_week_y', 'Consecutive_holidays']]"
      ],
      "execution_count": 0,
      "outputs": []
    },
    {
      "cell_type": "code",
      "metadata": {
        "id": "Dk6lKfZQQi7g",
        "colab_type": "code",
        "outputId": "cb8ba33d-043e-4e0c-94c8-be04dab4f839",
        "colab": {
          "base_uri": "https://localhost:8080/",
          "height": 309
        }
      },
      "source": [
        "train_final.head()"
      ],
      "execution_count": 0,
      "outputs": [
        {
          "output_type": "execute_result",
          "data": {
            "text/html": [
              "<div>\n",
              "<style scoped>\n",
              "    .dataframe tbody tr th:only-of-type {\n",
              "        vertical-align: middle;\n",
              "    }\n",
              "\n",
              "    .dataframe tbody tr th {\n",
              "        vertical-align: top;\n",
              "    }\n",
              "\n",
              "    .dataframe thead th {\n",
              "        text-align: right;\n",
              "    }\n",
              "</style>\n",
              "<table border=\"1\" class=\"dataframe\">\n",
              "  <thead>\n",
              "    <tr style=\"text-align: right;\">\n",
              "      <th></th>\n",
              "      <th>visit_date</th>\n",
              "      <th>air_store_id</th>\n",
              "      <th>geo1</th>\n",
              "      <th>population</th>\n",
              "      <th>density</th>\n",
              "      <th>Food_Type</th>\n",
              "      <th>is_holiday</th>\n",
              "      <th>next_day</th>\n",
              "      <th>prev_day</th>\n",
              "      <th>visitors_x</th>\n",
              "      <th>season</th>\n",
              "      <th>week</th>\n",
              "      <th>daysToPrev25th</th>\n",
              "      <th>prev_visitors</th>\n",
              "      <th>year</th>\n",
              "      <th>month_y</th>\n",
              "      <th>Dining_yes</th>\n",
              "      <th>day</th>\n",
              "      <th>min_visitors</th>\n",
              "      <th>mean_visitors</th>\n",
              "      <th>median_visitors</th>\n",
              "      <th>max_visitors</th>\n",
              "      <th>count_observations</th>\n",
              "      <th>reserve_visitors</th>\n",
              "      <th>days_diff</th>\n",
              "      <th>latitude_y</th>\n",
              "      <th>longitude_y</th>\n",
              "      <th>day_of_week_y</th>\n",
              "      <th>Consecutive_holidays</th>\n",
              "    </tr>\n",
              "  </thead>\n",
              "  <tbody>\n",
              "    <tr>\n",
              "      <th>0</th>\n",
              "      <td>2016-01-13</td>\n",
              "      <td>air_ba937bf13d40fb24</td>\n",
              "      <td>Tokyo-to</td>\n",
              "      <td>2.7</td>\n",
              "      <td>11.9</td>\n",
              "      <td>Bars</td>\n",
              "      <td>0</td>\n",
              "      <td>0.0</td>\n",
              "      <td>0.0</td>\n",
              "      <td>25.0</td>\n",
              "      <td>winter</td>\n",
              "      <td>2</td>\n",
              "      <td>19</td>\n",
              "      <td>NaN</td>\n",
              "      <td>2016</td>\n",
              "      <td>1</td>\n",
              "      <td>0</td>\n",
              "      <td>13</td>\n",
              "      <td>7</td>\n",
              "      <td>23.843750</td>\n",
              "      <td>25.0</td>\n",
              "      <td>57</td>\n",
              "      <td>64</td>\n",
              "      <td>-1.0</td>\n",
              "      <td>-1.0</td>\n",
              "      <td>35.658068</td>\n",
              "      <td>139.751599</td>\n",
              "      <td>Wednesday</td>\n",
              "      <td>0.0</td>\n",
              "    </tr>\n",
              "    <tr>\n",
              "      <th>1</th>\n",
              "      <td>2016-01-14</td>\n",
              "      <td>air_ba937bf13d40fb24</td>\n",
              "      <td>Tokyo-to</td>\n",
              "      <td>2.7</td>\n",
              "      <td>11.9</td>\n",
              "      <td>Bars</td>\n",
              "      <td>0</td>\n",
              "      <td>0.0</td>\n",
              "      <td>0.0</td>\n",
              "      <td>32.0</td>\n",
              "      <td>winter</td>\n",
              "      <td>2</td>\n",
              "      <td>20</td>\n",
              "      <td>NaN</td>\n",
              "      <td>2016</td>\n",
              "      <td>1</td>\n",
              "      <td>0</td>\n",
              "      <td>14</td>\n",
              "      <td>2</td>\n",
              "      <td>20.292308</td>\n",
              "      <td>21.0</td>\n",
              "      <td>54</td>\n",
              "      <td>65</td>\n",
              "      <td>-1.0</td>\n",
              "      <td>-1.0</td>\n",
              "      <td>35.658068</td>\n",
              "      <td>139.751599</td>\n",
              "      <td>Thursday</td>\n",
              "      <td>0.0</td>\n",
              "    </tr>\n",
              "    <tr>\n",
              "      <th>2</th>\n",
              "      <td>2016-01-15</td>\n",
              "      <td>air_ba937bf13d40fb24</td>\n",
              "      <td>Tokyo-to</td>\n",
              "      <td>2.7</td>\n",
              "      <td>11.9</td>\n",
              "      <td>Bars</td>\n",
              "      <td>0</td>\n",
              "      <td>0.0</td>\n",
              "      <td>0.0</td>\n",
              "      <td>29.0</td>\n",
              "      <td>winter</td>\n",
              "      <td>2</td>\n",
              "      <td>21</td>\n",
              "      <td>NaN</td>\n",
              "      <td>2016</td>\n",
              "      <td>1</td>\n",
              "      <td>0</td>\n",
              "      <td>15</td>\n",
              "      <td>4</td>\n",
              "      <td>34.738462</td>\n",
              "      <td>35.0</td>\n",
              "      <td>61</td>\n",
              "      <td>65</td>\n",
              "      <td>-1.0</td>\n",
              "      <td>-1.0</td>\n",
              "      <td>35.658068</td>\n",
              "      <td>139.751599</td>\n",
              "      <td>Friday</td>\n",
              "      <td>0.0</td>\n",
              "    </tr>\n",
              "    <tr>\n",
              "      <th>3</th>\n",
              "      <td>2016-01-16</td>\n",
              "      <td>air_ba937bf13d40fb24</td>\n",
              "      <td>Tokyo-to</td>\n",
              "      <td>2.7</td>\n",
              "      <td>11.9</td>\n",
              "      <td>Bars</td>\n",
              "      <td>0</td>\n",
              "      <td>0.0</td>\n",
              "      <td>0.0</td>\n",
              "      <td>22.0</td>\n",
              "      <td>winter</td>\n",
              "      <td>2</td>\n",
              "      <td>22</td>\n",
              "      <td>NaN</td>\n",
              "      <td>2016</td>\n",
              "      <td>1</td>\n",
              "      <td>0</td>\n",
              "      <td>16</td>\n",
              "      <td>6</td>\n",
              "      <td>27.651515</td>\n",
              "      <td>27.0</td>\n",
              "      <td>53</td>\n",
              "      <td>66</td>\n",
              "      <td>-1.0</td>\n",
              "      <td>-1.0</td>\n",
              "      <td>35.658068</td>\n",
              "      <td>139.751599</td>\n",
              "      <td>Saturday</td>\n",
              "      <td>0.0</td>\n",
              "    </tr>\n",
              "    <tr>\n",
              "      <th>4</th>\n",
              "      <td>2016-01-18</td>\n",
              "      <td>air_ba937bf13d40fb24</td>\n",
              "      <td>Tokyo-to</td>\n",
              "      <td>2.7</td>\n",
              "      <td>11.9</td>\n",
              "      <td>Bars</td>\n",
              "      <td>0</td>\n",
              "      <td>0.0</td>\n",
              "      <td>0.0</td>\n",
              "      <td>6.0</td>\n",
              "      <td>winter</td>\n",
              "      <td>3</td>\n",
              "      <td>24</td>\n",
              "      <td>NaN</td>\n",
              "      <td>2016</td>\n",
              "      <td>1</td>\n",
              "      <td>0</td>\n",
              "      <td>18</td>\n",
              "      <td>2</td>\n",
              "      <td>13.754386</td>\n",
              "      <td>12.0</td>\n",
              "      <td>34</td>\n",
              "      <td>57</td>\n",
              "      <td>-1.0</td>\n",
              "      <td>-1.0</td>\n",
              "      <td>35.658068</td>\n",
              "      <td>139.751599</td>\n",
              "      <td>Monday</td>\n",
              "      <td>0.0</td>\n",
              "    </tr>\n",
              "  </tbody>\n",
              "</table>\n",
              "</div>"
            ],
            "text/plain": [
              "  visit_date          air_store_id  ... day_of_week_y  Consecutive_holidays\n",
              "0 2016-01-13  air_ba937bf13d40fb24  ...     Wednesday                   0.0\n",
              "1 2016-01-14  air_ba937bf13d40fb24  ...      Thursday                   0.0\n",
              "2 2016-01-15  air_ba937bf13d40fb24  ...        Friday                   0.0\n",
              "3 2016-01-16  air_ba937bf13d40fb24  ...      Saturday                   0.0\n",
              "4 2016-01-18  air_ba937bf13d40fb24  ...        Monday                   0.0\n",
              "\n",
              "[5 rows x 29 columns]"
            ]
          },
          "metadata": {
            "tags": []
          },
          "execution_count": 90
        }
      ]
    },
    {
      "cell_type": "code",
      "metadata": {
        "id": "Xq3kuUHQRbft",
        "colab_type": "code",
        "colab": {}
      },
      "source": [
        "train_final.to_csv('/content/drive/Shared drives/Predictive Competition/recruit-restaurant-visitor-forecasting/train_final.csv')"
      ],
      "execution_count": 0,
      "outputs": []
    },
    {
      "cell_type": "code",
      "metadata": {
        "id": "nNg9lpQaT51b",
        "colab_type": "code",
        "colab": {}
      },
      "source": [
        "#test_final.head()"
      ],
      "execution_count": 0,
      "outputs": []
    },
    {
      "cell_type": "code",
      "metadata": {
        "id": "ysJBvztkUYCF",
        "colab_type": "code",
        "outputId": "22025341-0c9b-4959-e5cf-87e2be87f1ee",
        "colab": {
          "base_uri": "https://localhost:8080/",
          "height": 170
        }
      },
      "source": [
        "test_final.columns"
      ],
      "execution_count": 0,
      "outputs": [
        {
          "output_type": "execute_result",
          "data": {
            "text/plain": [
              "Index(['visit_date', 'air_store_id', 'geo1', 'population', 'density',\n",
              "       'Food_Type', 'Dining_Cat', 'day_of_week_x', 'is_holiday', 'next_day',\n",
              "       'prev_day', 'visitors', 'month_x', 'season', 'week', 'daysToPrev25th',\n",
              "       'latitude_x', 'longitude_x', 'prev_visitors', 'year', 'month_y', 'day',\n",
              "       'min_visitors', 'mean_visitors', 'median_visitors', 'max_visitors',\n",
              "       'count_observations', 'reserve_visitors', 'days_diff', 'day_of_week_y',\n",
              "       'holiday_flg', 'Consecutive_holidays', 'air_genre_name',\n",
              "       'air_area_name', 'latitude_y', 'longitude_y', 'Dining_yes'],\n",
              "      dtype='object')"
            ]
          },
          "metadata": {
            "tags": []
          },
          "execution_count": 91
        }
      ]
    },
    {
      "cell_type": "code",
      "metadata": {
        "id": "50-FJjg-UaFL",
        "colab_type": "code",
        "colab": {}
      },
      "source": [
        "test_final = test_final[['visit_date', 'air_store_id', 'geo1','density','population','Food_Type','is_holiday', \n",
        "                           'next_day', 'prev_day','season', 'Dining_yes','week', 'daysToPrev25th',\n",
        "                           'prev_visitors','year', 'month_y',\n",
        "                           'day', 'min_visitors', 'mean_visitors', 'median_visitors',\n",
        "                           'max_visitors', 'count_observations', 'reserve_visitors', 'days_diff',\n",
        "                           'latitude_y', 'longitude_y', 'day_of_week_y', 'Consecutive_holidays']]\n"
      ],
      "execution_count": 0,
      "outputs": []
    },
    {
      "cell_type": "code",
      "metadata": {
        "id": "8EqruzpmUlFz",
        "colab_type": "code",
        "outputId": "6c48b35c-58b0-458b-863d-12de71f73a84",
        "colab": {
          "base_uri": "https://localhost:8080/",
          "height": 309
        }
      },
      "source": [
        "test_final.head()"
      ],
      "execution_count": 0,
      "outputs": [
        {
          "output_type": "execute_result",
          "data": {
            "text/html": [
              "<div>\n",
              "<style scoped>\n",
              "    .dataframe tbody tr th:only-of-type {\n",
              "        vertical-align: middle;\n",
              "    }\n",
              "\n",
              "    .dataframe tbody tr th {\n",
              "        vertical-align: top;\n",
              "    }\n",
              "\n",
              "    .dataframe thead th {\n",
              "        text-align: right;\n",
              "    }\n",
              "</style>\n",
              "<table border=\"1\" class=\"dataframe\">\n",
              "  <thead>\n",
              "    <tr style=\"text-align: right;\">\n",
              "      <th></th>\n",
              "      <th>visit_date</th>\n",
              "      <th>air_store_id</th>\n",
              "      <th>geo1</th>\n",
              "      <th>density</th>\n",
              "      <th>population</th>\n",
              "      <th>Food_Type</th>\n",
              "      <th>is_holiday</th>\n",
              "      <th>next_day</th>\n",
              "      <th>prev_day</th>\n",
              "      <th>season</th>\n",
              "      <th>Dining_yes</th>\n",
              "      <th>week</th>\n",
              "      <th>daysToPrev25th</th>\n",
              "      <th>prev_visitors</th>\n",
              "      <th>year</th>\n",
              "      <th>month_y</th>\n",
              "      <th>day</th>\n",
              "      <th>min_visitors</th>\n",
              "      <th>mean_visitors</th>\n",
              "      <th>median_visitors</th>\n",
              "      <th>max_visitors</th>\n",
              "      <th>count_observations</th>\n",
              "      <th>reserve_visitors</th>\n",
              "      <th>days_diff</th>\n",
              "      <th>latitude_y</th>\n",
              "      <th>longitude_y</th>\n",
              "      <th>day_of_week_y</th>\n",
              "      <th>Consecutive_holidays</th>\n",
              "    </tr>\n",
              "  </thead>\n",
              "  <tbody>\n",
              "    <tr>\n",
              "      <th>0</th>\n",
              "      <td>2017-04-23</td>\n",
              "      <td>air_00a91d42b08b08d9</td>\n",
              "      <td>Tokyo-to</td>\n",
              "      <td>11.9</td>\n",
              "      <td>2.7</td>\n",
              "      <td>European</td>\n",
              "      <td>0</td>\n",
              "      <td>0.0</td>\n",
              "      <td>0.0</td>\n",
              "      <td>spring</td>\n",
              "      <td>1</td>\n",
              "      <td>16</td>\n",
              "      <td>29</td>\n",
              "      <td>7.0</td>\n",
              "      <td>2017</td>\n",
              "      <td>4</td>\n",
              "      <td>23</td>\n",
              "      <td>2.0</td>\n",
              "      <td>2.000000</td>\n",
              "      <td>2.0</td>\n",
              "      <td>2.0</td>\n",
              "      <td>1.0</td>\n",
              "      <td>-1.0</td>\n",
              "      <td>-1.0</td>\n",
              "      <td>35.694003</td>\n",
              "      <td>139.753595</td>\n",
              "      <td>Sunday</td>\n",
              "      <td>0.0</td>\n",
              "    </tr>\n",
              "    <tr>\n",
              "      <th>1</th>\n",
              "      <td>2017-04-24</td>\n",
              "      <td>air_00a91d42b08b08d9</td>\n",
              "      <td>Tokyo-to</td>\n",
              "      <td>11.9</td>\n",
              "      <td>2.7</td>\n",
              "      <td>European</td>\n",
              "      <td>0</td>\n",
              "      <td>0.0</td>\n",
              "      <td>0.0</td>\n",
              "      <td>spring</td>\n",
              "      <td>1</td>\n",
              "      <td>17</td>\n",
              "      <td>30</td>\n",
              "      <td>2.0</td>\n",
              "      <td>2017</td>\n",
              "      <td>4</td>\n",
              "      <td>24</td>\n",
              "      <td>1.0</td>\n",
              "      <td>22.457143</td>\n",
              "      <td>19.0</td>\n",
              "      <td>47.0</td>\n",
              "      <td>35.0</td>\n",
              "      <td>-1.0</td>\n",
              "      <td>-1.0</td>\n",
              "      <td>35.694003</td>\n",
              "      <td>139.753595</td>\n",
              "      <td>Monday</td>\n",
              "      <td>0.0</td>\n",
              "    </tr>\n",
              "    <tr>\n",
              "      <th>2</th>\n",
              "      <td>2017-04-25</td>\n",
              "      <td>air_00a91d42b08b08d9</td>\n",
              "      <td>Tokyo-to</td>\n",
              "      <td>11.9</td>\n",
              "      <td>2.7</td>\n",
              "      <td>European</td>\n",
              "      <td>0</td>\n",
              "      <td>0.0</td>\n",
              "      <td>0.0</td>\n",
              "      <td>spring</td>\n",
              "      <td>1</td>\n",
              "      <td>17</td>\n",
              "      <td>0</td>\n",
              "      <td>2.0</td>\n",
              "      <td>2017</td>\n",
              "      <td>4</td>\n",
              "      <td>25</td>\n",
              "      <td>1.0</td>\n",
              "      <td>24.350000</td>\n",
              "      <td>24.5</td>\n",
              "      <td>43.0</td>\n",
              "      <td>40.0</td>\n",
              "      <td>-1.0</td>\n",
              "      <td>-1.0</td>\n",
              "      <td>35.694003</td>\n",
              "      <td>139.753595</td>\n",
              "      <td>Tuesday</td>\n",
              "      <td>0.0</td>\n",
              "    </tr>\n",
              "    <tr>\n",
              "      <th>3</th>\n",
              "      <td>2017-04-26</td>\n",
              "      <td>air_00a91d42b08b08d9</td>\n",
              "      <td>Tokyo-to</td>\n",
              "      <td>11.9</td>\n",
              "      <td>2.7</td>\n",
              "      <td>European</td>\n",
              "      <td>0</td>\n",
              "      <td>0.0</td>\n",
              "      <td>0.0</td>\n",
              "      <td>spring</td>\n",
              "      <td>1</td>\n",
              "      <td>17</td>\n",
              "      <td>1</td>\n",
              "      <td>9.0</td>\n",
              "      <td>2017</td>\n",
              "      <td>4</td>\n",
              "      <td>26</td>\n",
              "      <td>15.0</td>\n",
              "      <td>28.125000</td>\n",
              "      <td>28.0</td>\n",
              "      <td>52.0</td>\n",
              "      <td>40.0</td>\n",
              "      <td>-1.0</td>\n",
              "      <td>-1.0</td>\n",
              "      <td>35.694003</td>\n",
              "      <td>139.753595</td>\n",
              "      <td>Wednesday</td>\n",
              "      <td>0.0</td>\n",
              "    </tr>\n",
              "    <tr>\n",
              "      <th>4</th>\n",
              "      <td>2017-04-27</td>\n",
              "      <td>air_00a91d42b08b08d9</td>\n",
              "      <td>Tokyo-to</td>\n",
              "      <td>11.9</td>\n",
              "      <td>2.7</td>\n",
              "      <td>European</td>\n",
              "      <td>0</td>\n",
              "      <td>0.0</td>\n",
              "      <td>0.0</td>\n",
              "      <td>spring</td>\n",
              "      <td>1</td>\n",
              "      <td>17</td>\n",
              "      <td>2</td>\n",
              "      <td>22.0</td>\n",
              "      <td>2017</td>\n",
              "      <td>4</td>\n",
              "      <td>27</td>\n",
              "      <td>15.0</td>\n",
              "      <td>29.868421</td>\n",
              "      <td>30.0</td>\n",
              "      <td>47.0</td>\n",
              "      <td>38.0</td>\n",
              "      <td>-1.0</td>\n",
              "      <td>-1.0</td>\n",
              "      <td>35.694003</td>\n",
              "      <td>139.753595</td>\n",
              "      <td>Thursday</td>\n",
              "      <td>0.0</td>\n",
              "    </tr>\n",
              "  </tbody>\n",
              "</table>\n",
              "</div>"
            ],
            "text/plain": [
              "  visit_date          air_store_id  ... day_of_week_y  Consecutive_holidays\n",
              "0 2017-04-23  air_00a91d42b08b08d9  ...        Sunday                   0.0\n",
              "1 2017-04-24  air_00a91d42b08b08d9  ...        Monday                   0.0\n",
              "2 2017-04-25  air_00a91d42b08b08d9  ...       Tuesday                   0.0\n",
              "3 2017-04-26  air_00a91d42b08b08d9  ...     Wednesday                   0.0\n",
              "4 2017-04-27  air_00a91d42b08b08d9  ...      Thursday                   0.0\n",
              "\n",
              "[5 rows x 28 columns]"
            ]
          },
          "metadata": {
            "tags": []
          },
          "execution_count": 93
        }
      ]
    },
    {
      "cell_type": "code",
      "metadata": {
        "id": "Ut3KNBXEUytK",
        "colab_type": "code",
        "outputId": "4667371a-c67a-4d45-eed0-d1770c48c8a5",
        "colab": {
          "base_uri": "https://localhost:8080/",
          "height": 34
        }
      },
      "source": [
        "len(test_final.columns)"
      ],
      "execution_count": 0,
      "outputs": [
        {
          "output_type": "execute_result",
          "data": {
            "text/plain": [
              "28"
            ]
          },
          "metadata": {
            "tags": []
          },
          "execution_count": 94
        }
      ]
    },
    {
      "cell_type": "code",
      "metadata": {
        "id": "oiW3Ubq8U8l-",
        "colab_type": "code",
        "outputId": "d4ef328c-6b01-4275-b5bf-ef3c60cd7c24",
        "colab": {
          "base_uri": "https://localhost:8080/",
          "height": 34
        }
      },
      "source": [
        "len(train_final.columns)"
      ],
      "execution_count": 0,
      "outputs": [
        {
          "output_type": "execute_result",
          "data": {
            "text/plain": [
              "29"
            ]
          },
          "metadata": {
            "tags": []
          },
          "execution_count": 95
        }
      ]
    },
    {
      "cell_type": "code",
      "metadata": {
        "id": "8BLc48uxU-n4",
        "colab_type": "code",
        "colab": {}
      },
      "source": [
        "test_final.to_csv('/content/drive/Shared drives/Predictive Competition/recruit-restaurant-visitor-forecasting/test_final.csv')"
      ],
      "execution_count": 0,
      "outputs": []
    },
    {
      "cell_type": "code",
      "metadata": {
        "id": "EV0pNPO8cYzi",
        "colab_type": "code",
        "colab": {}
      },
      "source": [
        ""
      ],
      "execution_count": 0,
      "outputs": []
    }
  ]
}