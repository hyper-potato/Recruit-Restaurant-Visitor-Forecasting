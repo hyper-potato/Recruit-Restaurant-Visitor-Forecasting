{
  "nbformat": 4,
  "nbformat_minor": 0,
  "metadata": {
    "kernelspec": {
      "display_name": "Python 3",
      "language": "python",
      "name": "python3"
    },
    "language_info": {
      "codemirror_mode": {
        "name": "ipython",
        "version": 3
      },
      "file_extension": ".py",
      "mimetype": "text/x-python",
      "name": "python",
      "nbconvert_exporter": "python",
      "pygments_lexer": "ipython3",
      "version": "3.7.3"
    },
    "colab": {
      "name": "TimeSeriesFeatureCreation_Xuan_updated.ipynb",
      "provenance": []
    }
  },
  "cells": [
    {
      "cell_type": "code",
      "metadata": {
        "id": "RE5F4dmnRQJ6",
        "colab_type": "code",
        "colab": {}
      },
      "source": [
        "import pandas as pd\n",
        "\n",
        "# load data and take sample\n",
        "visit_data = pd.read_csv(\"air_visit_data.csv\")\n",
        "\n",
        "# filter out records without air_store_id\n",
        "# integData2 = integData[pd.notnull(integData[\"air_store_id\"])]"
      ],
      "execution_count": 0,
      "outputs": []
    },
    {
      "cell_type": "code",
      "metadata": {
        "id": "c--mgqOXRQKP",
        "colab_type": "code",
        "colab": {},
        "outputId": "e770a31d-caad-4f13-d721-65172fce299c"
      },
      "source": [
        "visit_data.head(5)"
      ],
      "execution_count": 0,
      "outputs": [
        {
          "output_type": "execute_result",
          "data": {
            "text/html": [
              "<div>\n",
              "<style scoped>\n",
              "    .dataframe tbody tr th:only-of-type {\n",
              "        vertical-align: middle;\n",
              "    }\n",
              "\n",
              "    .dataframe tbody tr th {\n",
              "        vertical-align: top;\n",
              "    }\n",
              "\n",
              "    .dataframe thead th {\n",
              "        text-align: right;\n",
              "    }\n",
              "</style>\n",
              "<table border=\"1\" class=\"dataframe\">\n",
              "  <thead>\n",
              "    <tr style=\"text-align: right;\">\n",
              "      <th></th>\n",
              "      <th>air_store_id</th>\n",
              "      <th>visit_date</th>\n",
              "      <th>visitors</th>\n",
              "    </tr>\n",
              "  </thead>\n",
              "  <tbody>\n",
              "    <tr>\n",
              "      <th>0</th>\n",
              "      <td>air_ba937bf13d40fb24</td>\n",
              "      <td>2016-01-13</td>\n",
              "      <td>25</td>\n",
              "    </tr>\n",
              "    <tr>\n",
              "      <th>1</th>\n",
              "      <td>air_ba937bf13d40fb24</td>\n",
              "      <td>2016-01-14</td>\n",
              "      <td>32</td>\n",
              "    </tr>\n",
              "    <tr>\n",
              "      <th>2</th>\n",
              "      <td>air_ba937bf13d40fb24</td>\n",
              "      <td>2016-01-15</td>\n",
              "      <td>29</td>\n",
              "    </tr>\n",
              "    <tr>\n",
              "      <th>3</th>\n",
              "      <td>air_ba937bf13d40fb24</td>\n",
              "      <td>2016-01-16</td>\n",
              "      <td>22</td>\n",
              "    </tr>\n",
              "    <tr>\n",
              "      <th>4</th>\n",
              "      <td>air_ba937bf13d40fb24</td>\n",
              "      <td>2016-01-18</td>\n",
              "      <td>6</td>\n",
              "    </tr>\n",
              "  </tbody>\n",
              "</table>\n",
              "</div>"
            ],
            "text/plain": [
              "           air_store_id  visit_date  visitors\n",
              "0  air_ba937bf13d40fb24  2016-01-13        25\n",
              "1  air_ba937bf13d40fb24  2016-01-14        32\n",
              "2  air_ba937bf13d40fb24  2016-01-15        29\n",
              "3  air_ba937bf13d40fb24  2016-01-16        22\n",
              "4  air_ba937bf13d40fb24  2016-01-18         6"
            ]
          },
          "metadata": {
            "tags": []
          },
          "execution_count": 31
        }
      ]
    },
    {
      "cell_type": "markdown",
      "metadata": {
        "id": "blK_D8wkRQKd",
        "colab_type": "text"
      },
      "source": [
        "variables to be created (create based on Datetime column) :\n",
        "1. quarter, \n",
        "2. season (winter, summer), \n",
        "3. month, \n",
        "4. week, \n",
        "5. day of week\n",
        "6. Days to the 25th of previous month (Japanese people usually get their salary at the 25th of each month)"
      ]
    },
    {
      "cell_type": "markdown",
      "metadata": {
        "id": "IN0y_XHsRQKg",
        "colab_type": "text"
      },
      "source": [
        "1. quarter, 3. month, 4. week, 5. day of week"
      ]
    },
    {
      "cell_type": "code",
      "metadata": {
        "id": "qaOhc2EqRQKk",
        "colab_type": "code",
        "colab": {}
      },
      "source": [
        "visit_data[\"visit_date\"] = pd.to_datetime(visit_data[\"visit_date\"])\n",
        "\n",
        "# 1. quarter, 3. month, 4. week, 5. day of week\n",
        "visit_data[\"quarter\"] = visit_data[\"visit_date\"].dt.quarter\n",
        "visit_data[\"month\"] = visit_data[\"visit_date\"].dt.month\n",
        "visit_data[\"week\"] = visit_data[\"visit_date\"].dt.week\n",
        "visit_data[\"dayofweek\"] = visit_data[\"visit_date\"].dt.dayofweek # 0 (sunday) - 6"
      ],
      "execution_count": 0,
      "outputs": []
    },
    {
      "cell_type": "markdown",
      "metadata": {
        "id": "o3363qmDRQKu",
        "colab_type": "text"
      },
      "source": [
        "2. season\n",
        "\"\"\"\n",
        "Japan has four distinct seasons: \n",
        "March to May is spring; \n",
        "June to August is summer; \n",
        "September to November is autumn; \n",
        "and December to February is winter. \n",
        "Each season has very different temperatures and climates\n",
        "\"\"\""
      ]
    },
    {
      "cell_type": "code",
      "metadata": {
        "id": "_etJBbSoRQKx",
        "colab_type": "code",
        "colab": {}
      },
      "source": [
        "# 2. season\n",
        "\"\"\"\n",
        "Japan has four distinct seasons: \n",
        "March to May is spring; \n",
        "June to August is summer; \n",
        "September to November is autumn; \n",
        "and December to February is winter. \n",
        "Each season has very different temperatures and climates\n",
        "\"\"\"\n",
        "# integData2[\"month\"].unique()\n",
        "\n",
        "def seasonLabel(row):\n",
        "    if row['month'] in [3,4,5]:\n",
        "        return 'spring'\n",
        "    if row['month'] in [6,7,8]:\n",
        "        return 'summer'\n",
        "    if row['month'] in [9,10,11]:\n",
        "        return 'autumn'\n",
        "    if row['month'] in [12,1,2]:\n",
        "        return 'winter'\n",
        "    \n",
        "visit_data[\"season\"] = visit_data.apply(lambda row:seasonLabel(row), axis=1)  \n",
        "    "
      ],
      "execution_count": 0,
      "outputs": []
    },
    {
      "cell_type": "markdown",
      "metadata": {
        "id": "sDF97OKwRQK6",
        "colab_type": "text"
      },
      "source": [
        "6. days to the 25th of previous month"
      ]
    },
    {
      "cell_type": "code",
      "metadata": {
        "id": "VGREyP4eRQK8",
        "colab_type": "code",
        "colab": {}
      },
      "source": [
        "# 6. days to the end of each month \n",
        "# logic: days in month - day of month\n",
        "visit_data[\"dayofmonth\"] = visit_data[\"visit_date\"].dt.day    \n",
        "# visit_data[\"daysinmonth\"] = visit_data[\"visit_date\"].dt.daysinmonth \n",
        "# visit_data[\"daysToMonthEnd\"] = visit_data[\"daysinmonth\"] - visit_data[\"dayofmonth\"]  \n",
        "visit_data[\"daysinPrevmonth\"] = (visit_data[\"visit_date\"] - pd.DateOffset(months=1)).dt.daysinmonth \n"
      ],
      "execution_count": 0,
      "outputs": []
    },
    {
      "cell_type": "code",
      "metadata": {
        "id": "0SntV9XURQLD",
        "colab_type": "code",
        "colab": {}
      },
      "source": [
        "# 7. Days to the 25th of previous month (Japanese people usually get their salary at the 25th of each month)\n",
        "# create days to the 25th of previous month\n",
        "# 7.1 day of month >= 25, day of month - 25\n",
        "# 7.2 day of month < 25, (days in month - 25) + day of month\n",
        "\n",
        "def daysToPrev25th(row):\n",
        "    TARGET_DATE = 25\n",
        "    if row['dayofmonth'] >= 25:\n",
        "        return row['dayofmonth'] - TARGET_DATE\n",
        "    else:\n",
        "        return row['daysinPrevmonth'] - TARGET_DATE + row['dayofmonth']\n",
        "\n",
        "visit_data[\"daysToPrev25th\"] = visit_data.apply(lambda row:daysToPrev25th(row), axis=1)"
      ],
      "execution_count": 0,
      "outputs": []
    },
    {
      "cell_type": "code",
      "metadata": {
        "id": "uNcY10FoRQLH",
        "colab_type": "code",
        "colab": {},
        "outputId": "5218ec1c-c237-4f92-8947-30bf4c7a8b79"
      },
      "source": [
        "visit_data.head(5)"
      ],
      "execution_count": 0,
      "outputs": [
        {
          "output_type": "execute_result",
          "data": {
            "text/html": [
              "<div>\n",
              "<style scoped>\n",
              "    .dataframe tbody tr th:only-of-type {\n",
              "        vertical-align: middle;\n",
              "    }\n",
              "\n",
              "    .dataframe tbody tr th {\n",
              "        vertical-align: top;\n",
              "    }\n",
              "\n",
              "    .dataframe thead th {\n",
              "        text-align: right;\n",
              "    }\n",
              "</style>\n",
              "<table border=\"1\" class=\"dataframe\">\n",
              "  <thead>\n",
              "    <tr style=\"text-align: right;\">\n",
              "      <th></th>\n",
              "      <th>air_store_id</th>\n",
              "      <th>visit_date</th>\n",
              "      <th>visitors</th>\n",
              "      <th>quarter</th>\n",
              "      <th>month</th>\n",
              "      <th>week</th>\n",
              "      <th>dayofweek</th>\n",
              "      <th>season</th>\n",
              "      <th>dayofmonth</th>\n",
              "      <th>daysinPrevmonth</th>\n",
              "      <th>daysToPrev25th</th>\n",
              "    </tr>\n",
              "  </thead>\n",
              "  <tbody>\n",
              "    <tr>\n",
              "      <th>0</th>\n",
              "      <td>air_ba937bf13d40fb24</td>\n",
              "      <td>2016-01-13</td>\n",
              "      <td>25</td>\n",
              "      <td>1</td>\n",
              "      <td>1</td>\n",
              "      <td>2</td>\n",
              "      <td>2</td>\n",
              "      <td>winter</td>\n",
              "      <td>13</td>\n",
              "      <td>31</td>\n",
              "      <td>19</td>\n",
              "    </tr>\n",
              "    <tr>\n",
              "      <th>1</th>\n",
              "      <td>air_ba937bf13d40fb24</td>\n",
              "      <td>2016-01-14</td>\n",
              "      <td>32</td>\n",
              "      <td>1</td>\n",
              "      <td>1</td>\n",
              "      <td>2</td>\n",
              "      <td>3</td>\n",
              "      <td>winter</td>\n",
              "      <td>14</td>\n",
              "      <td>31</td>\n",
              "      <td>20</td>\n",
              "    </tr>\n",
              "    <tr>\n",
              "      <th>2</th>\n",
              "      <td>air_ba937bf13d40fb24</td>\n",
              "      <td>2016-01-15</td>\n",
              "      <td>29</td>\n",
              "      <td>1</td>\n",
              "      <td>1</td>\n",
              "      <td>2</td>\n",
              "      <td>4</td>\n",
              "      <td>winter</td>\n",
              "      <td>15</td>\n",
              "      <td>31</td>\n",
              "      <td>21</td>\n",
              "    </tr>\n",
              "    <tr>\n",
              "      <th>3</th>\n",
              "      <td>air_ba937bf13d40fb24</td>\n",
              "      <td>2016-01-16</td>\n",
              "      <td>22</td>\n",
              "      <td>1</td>\n",
              "      <td>1</td>\n",
              "      <td>2</td>\n",
              "      <td>5</td>\n",
              "      <td>winter</td>\n",
              "      <td>16</td>\n",
              "      <td>31</td>\n",
              "      <td>22</td>\n",
              "    </tr>\n",
              "    <tr>\n",
              "      <th>4</th>\n",
              "      <td>air_ba937bf13d40fb24</td>\n",
              "      <td>2016-01-18</td>\n",
              "      <td>6</td>\n",
              "      <td>1</td>\n",
              "      <td>1</td>\n",
              "      <td>3</td>\n",
              "      <td>0</td>\n",
              "      <td>winter</td>\n",
              "      <td>18</td>\n",
              "      <td>31</td>\n",
              "      <td>24</td>\n",
              "    </tr>\n",
              "  </tbody>\n",
              "</table>\n",
              "</div>"
            ],
            "text/plain": [
              "           air_store_id visit_date  visitors  quarter  month  week  dayofweek  \\\n",
              "0  air_ba937bf13d40fb24 2016-01-13        25        1      1     2          2   \n",
              "1  air_ba937bf13d40fb24 2016-01-14        32        1      1     2          3   \n",
              "2  air_ba937bf13d40fb24 2016-01-15        29        1      1     2          4   \n",
              "3  air_ba937bf13d40fb24 2016-01-16        22        1      1     2          5   \n",
              "4  air_ba937bf13d40fb24 2016-01-18         6        1      1     3          0   \n",
              "\n",
              "   season  dayofmonth  daysinPrevmonth  daysToPrev25th  \n",
              "0  winter          13               31              19  \n",
              "1  winter          14               31              20  \n",
              "2  winter          15               31              21  \n",
              "3  winter          16               31              22  \n",
              "4  winter          18               31              24  "
            ]
          },
          "metadata": {
            "tags": []
          },
          "execution_count": 36
        }
      ]
    }
  ]
}