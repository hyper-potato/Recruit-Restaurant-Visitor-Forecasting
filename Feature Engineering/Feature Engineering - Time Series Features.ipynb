{
  "nbformat": 4,
  "nbformat_minor": 0,
  "metadata": {
    "colab": {
      "name": "Pre-processing and initial features_Nina.ipynb",
      "provenance": [],
      "toc_visible": true
    },
    "kernelspec": {
      "name": "python3",
      "display_name": "Python 3"
    }
  },
  "cells": [
    {
      "cell_type": "markdown",
      "metadata": {
        "id": "bHGea_cTLm_1",
        "colab_type": "text"
      },
      "source": [
        "\n",
        "\n",
        "---\n",
        "\n"
      ]
    },
    {
      "cell_type": "markdown",
      "metadata": {
        "id": "_OPLGz9XMCu4",
        "colab_type": "text"
      },
      "source": [
        "## Setting"
      ]
    },
    {
      "cell_type": "code",
      "metadata": {
        "id": "X3Y1fyLKES0E",
        "colab_type": "code",
        "outputId": "6de43aad-f59f-4729-d394-9e38610f70de",
        "colab": {
          "base_uri": "https://localhost:8080/",
          "height": 122
        }
      },
      "source": [
        "from google.colab import drive\n",
        "drive.mount('/content/drive')"
      ],
      "execution_count": 0,
      "outputs": [
        {
          "output_type": "stream",
          "text": [
            "Go to this URL in a browser: https://accounts.google.com/o/oauth2/auth?client_id=947318989803-6bn6qk8qdgf4n4g3pfee6491hc0brc4i.apps.googleusercontent.com&redirect_uri=urn%3aietf%3awg%3aoauth%3a2.0%3aoob&response_type=code&scope=email%20https%3a%2f%2fwww.googleapis.com%2fauth%2fdocs.test%20https%3a%2f%2fwww.googleapis.com%2fauth%2fdrive%20https%3a%2f%2fwww.googleapis.com%2fauth%2fdrive.photos.readonly%20https%3a%2f%2fwww.googleapis.com%2fauth%2fpeopleapi.readonly\n",
            "\n",
            "Enter your authorization code:\n",
            "··········\n",
            "Mounted at /content/drive\n"
          ],
          "name": "stdout"
        }
      ]
    },
    {
      "cell_type": "markdown",
      "metadata": {
        "id": "qhop2wsKEI5A",
        "colab_type": "text"
      },
      "source": [
        "# Preprocessing"
      ]
    },
    {
      "cell_type": "code",
      "metadata": {
        "id": "XLxUdqcWLj-V",
        "colab_type": "code",
        "colab": {}
      },
      "source": [
        "data_dir = '/content/drive/Shared drives/Predictive Competition/recruit-restaurant-visitor-forecasting/'"
      ],
      "execution_count": 0,
      "outputs": []
    },
    {
      "cell_type": "code",
      "metadata": {
        "id": "4vhVZ1FRD_Lp",
        "colab_type": "code",
        "colab": {}
      },
      "source": [
        "%matplotlib inline\n",
        "import seaborn as sns\n",
        "import matplotlib.pyplot as plt\n",
        "import warnings\n",
        "import pandas as pd\n",
        "import numpy as np"
      ],
      "execution_count": 0,
      "outputs": []
    },
    {
      "cell_type": "markdown",
      "metadata": {
        "id": "Dx9sO30zFFs6",
        "colab_type": "text"
      },
      "source": [
        "## Load files"
      ]
    },
    {
      "cell_type": "code",
      "metadata": {
        "id": "zOrbSat2ES2Z",
        "colab_type": "code",
        "outputId": "197919f8-4e0a-4602-be0c-645c145711c5",
        "colab": {
          "base_uri": "https://localhost:8080/",
          "height": 51
        }
      },
      "source": [
        "print(\"Loading Data ...\")\n",
        "\n",
        "air_reserve = pd.read_csv(data_dir+'air_reserve.csv')\n",
        "air_store_info = pd.read_csv(data_dir+'air_store_info.csv')\n",
        "hpg_reserve = pd.read_csv(data_dir+'hpg_reserve.csv')\n",
        "hpg_store_info = pd.read_csv(data_dir+'hpg_store_info.csv')\n",
        "\n",
        "store_id_relation = pd.read_csv(data_dir+'store_id_relation.csv')\n",
        "train = pd.read_csv(data_dir+'air_visit_data.csv')\n",
        "test = pd.read_csv(data_dir + 'sample_submission.csv')\n",
        "\n",
        "date_info = pd.read_csv(data_dir+'date_info.csv')\n",
        "date_info = date_info.rename(columns={'calendar_date':'visit_date'})\n",
        "\n",
        "print(\"Loading Data Complete.\")"
      ],
      "execution_count": 0,
      "outputs": [
        {
          "output_type": "stream",
          "text": [
            "Loading Data ...\n",
            "Loading Data Complete.\n"
          ],
          "name": "stdout"
        }
      ]
    },
    {
      "cell_type": "code",
      "metadata": {
        "id": "Q3zDJ1_bES9b",
        "colab_type": "code",
        "colab": {}
      },
      "source": [
        "# =============================================================================\n",
        "# spliting test data 'id' column\n",
        "# =============================================================================\n",
        "test['air_store_id'] = test['id'].apply(lambda x: '_'.join(x.split('_')[:2]))\n",
        "test['visit_date'] = test['id'].apply(lambda x: x.split('_')[-1])\n",
        "index_test = test['id']\n",
        "test.drop(['id','visitors'], axis=1, inplace=True)"
      ],
      "execution_count": 0,
      "outputs": []
    },
    {
      "cell_type": "code",
      "metadata": {
        "id": "gAjYXXl0MdvY",
        "colab_type": "code",
        "outputId": "09e36cb6-e12d-43a1-da02-b10bafad5071",
        "colab": {
          "base_uri": "https://localhost:8080/",
          "height": 204
        }
      },
      "source": [
        "print(\"=========================================================================================\")\n",
        "print(\"Data Exploring ...\")\n",
        "print(\"=========================================================================================\")\n",
        "print(\"Unique store id in different dataset :\")\n",
        "print(\"-----------------------------------------------------------------------------------------\")\n",
        "num_store_air = np.unique(air_reserve['air_store_id'])\n",
        "print(\"Number of unique stores in air_reserve is: {}\".format(len(num_store_air)))\n",
        "\n",
        "num_store_as = np.unique(air_store_info['air_store_id'])\n",
        "print(\"Number of unique stores in air_store_info is: {}\".format(len(num_store_as)))\n",
        "\n",
        "num_store_av = np.unique(train['air_store_id'])\n",
        "print(\"Number of unique stores in air_visit is: {}\".format(len(num_store_av)))\n",
        "\n",
        "print(\"-----------------------------------------------------------------------------------------\")\n",
        "num_store_in_test = np.unique(test['air_store_id'])\n",
        "print(\"Number of unique stores in 'test' is: {}\".format(len(num_store_in_test)))\n",
        "\n",
        "\n",
        "print(\"=========================================================================================\")"
      ],
      "execution_count": 0,
      "outputs": [
        {
          "output_type": "stream",
          "text": [
            "=========================================================================================\n",
            "Data Exploring ...\n",
            "=========================================================================================\n",
            "Unique store id in different dataset :\n",
            "-----------------------------------------------------------------------------------------\n",
            "Number of unique stores in air_reserve is: 314\n",
            "Number of unique stores in air_store_info is: 829\n",
            "Number of unique stores in air_visit is: 829\n",
            "-----------------------------------------------------------------------------------------\n",
            "Number of unique stores in 'test' is: 821\n",
            "=========================================================================================\n"
          ],
          "name": "stdout"
        }
      ]
    },
    {
      "cell_type": "markdown",
      "metadata": {
        "id": "4s9rE9T8FUab",
        "colab_type": "text"
      },
      "source": [
        "**Unique number of stores to predict: 821**"
      ]
    },
    {
      "cell_type": "code",
      "metadata": {
        "id": "NEqxKH3mYf4w",
        "colab_type": "code",
        "outputId": "d8c14b9a-b7d2-4da3-83c9-65e48cb9ecdf",
        "colab": {
          "base_uri": "https://localhost:8080/",
          "height": 34
        }
      },
      "source": [
        "if set(air_reserve['air_store_id']) < set(air_store_info['air_store_id']):\n",
        "    print('All the store ids in air reserve data is a subset of ids in air store info data.')"
      ],
      "execution_count": 0,
      "outputs": [
        {
          "output_type": "stream",
          "text": [
            "All the store ids in air reserve data is a subset of ids in air store info data.\n"
          ],
          "name": "stdout"
        }
      ]
    },
    {
      "cell_type": "markdown",
      "metadata": {
        "id": "ZxoqYj1MFY8Y",
        "colab_type": "text"
      },
      "source": [
        "## Convert year/month/day_of_week"
      ]
    },
    {
      "cell_type": "code",
      "metadata": {
        "id": "pUadoOpMMdzo",
        "colab_type": "code",
        "colab": {}
      },
      "source": [
        "# year/month/day_of_week for training and test dataset\n",
        "def seperate_date(data):\n",
        "    data['visit_date'] = pd.to_datetime(data['visit_date'])\n",
        "    data['dow'] = data['visit_date'].dt.dayofweek\n",
        "    data['year'] = data['visit_date'].dt.year\n",
        "    data['month'] = data['visit_date'].dt.month\n",
        "    data['day'] = data['visit_date'].dt.day\n",
        "    return data\n",
        "\n",
        "train = seperate_date(train)\n",
        "test = seperate_date(test)"
      ],
      "execution_count": 0,
      "outputs": []
    },
    {
      "cell_type": "code",
      "metadata": {
        "id": "YhrP05H0Zjws",
        "colab_type": "code",
        "outputId": "1b14ec24-c9c7-46f5-8a7d-b0e38cb57db2",
        "colab": {
          "base_uri": "https://localhost:8080/",
          "height": 34
        }
      },
      "source": [
        "test['air_store_id'].nunique()"
      ],
      "execution_count": 0,
      "outputs": [
        {
          "output_type": "execute_result",
          "data": {
            "text/plain": [
              "821"
            ]
          },
          "metadata": {
            "tags": []
          },
          "execution_count": 9
        }
      ]
    },
    {
      "cell_type": "markdown",
      "metadata": {
        "id": "ZZPYOF5XFhP2",
        "colab_type": "text"
      },
      "source": [
        "## Add visitors related features"
      ]
    },
    {
      "cell_type": "code",
      "metadata": {
        "id": "dcLtxPAMSR9F",
        "colab_type": "code",
        "colab": {}
      },
      "source": [
        "# =============================================================================\n",
        "# Adding visitors related features\n",
        "# =============================================================================\n",
        "\n",
        "tmp = train.groupby(['air_store_id', 'dow'], as_index=False)['visitors'].min().rename(\n",
        "    columns={'visitors': 'min_visitors'})\n",
        "train_stores = pd.merge(train, tmp, how='left', on=['air_store_id', 'dow'])\n",
        "test_stores = pd.merge(test, tmp, how='left', on=['air_store_id', 'dow'])\n",
        "\n",
        "tmp = train.groupby(['air_store_id', 'dow'], as_index=False)['visitors'].mean().rename(\n",
        "    columns={'visitors': 'mean_visitors'})\n",
        "train_stores = pd.merge(train_stores, tmp, how='left', on=['air_store_id', 'dow'])\n",
        "test_stores = pd.merge(test_stores, tmp, how='left', on=['air_store_id', 'dow'])\n",
        "\n",
        "tmp = train.groupby(['air_store_id', 'dow'], as_index=False)['visitors'].median().rename(\n",
        "     columns={'visitors': 'median_visitors'})\n",
        "train_stores = pd.merge(train_stores, tmp, how='left', on=['air_store_id', 'dow'])\n",
        "test_stores = pd.merge(test_stores, tmp, how='left', on=['air_store_id', 'dow'])\n",
        "\n",
        "tmp = train.groupby(['air_store_id', 'dow'], as_index=False)['visitors'].max().rename(\n",
        "     columns={'visitors': 'max_visitors'})\n",
        "train_stores = pd.merge(train_stores, tmp, how='left', on=['air_store_id', 'dow'])\n",
        "test_stores = pd.merge(test_stores, tmp, how='left', on=['air_store_id', 'dow'])\n",
        "\n",
        "tmp = train.groupby(['air_store_id', 'dow'], as_index=False)['visitors'].count().rename(\n",
        "    columns={'visitors': 'count_observations'})\n",
        "train_stores = pd.merge(train_stores, tmp, how='left', on=['air_store_id', 'dow'])\n",
        "test_stores = pd.merge(test_stores, tmp, how='left', on=['air_store_id', 'dow'])\n"
      ],
      "execution_count": 0,
      "outputs": []
    },
    {
      "cell_type": "code",
      "metadata": {
        "id": "y61umD6wFnef",
        "colab_type": "code",
        "outputId": "c6141f4e-4c80-4dc3-9374-6e4b6e737fa7",
        "colab": {
          "base_uri": "https://localhost:8080/",
          "height": 51
        }
      },
      "source": [
        "print(train_stores.shape)\n",
        "print(test_stores.shape)"
      ],
      "execution_count": 0,
      "outputs": [
        {
          "output_type": "stream",
          "text": [
            "(252108, 12)\n",
            "(32019, 11)\n"
          ],
          "name": "stdout"
        }
      ]
    },
    {
      "cell_type": "markdown",
      "metadata": {
        "id": "IHsXYRfzFrub",
        "colab_type": "text"
      },
      "source": [
        "## Add reservation information"
      ]
    },
    {
      "cell_type": "markdown",
      "metadata": {
        "id": "94nXWqFAFr9_",
        "colab_type": "text"
      },
      "source": [
        "**I'm assuming that air stores which are also listed in hpg have mutually exclusive bookings through air and hpg portal. As we are forecasting on air stores only, we'll pull information for those specific stores from the hpg dataset. For that we'll first join hpg dataset with store relation dataset to pull corresponding air store ids**"
      ]
    },
    {
      "cell_type": "code",
      "metadata": {
        "id": "4jU-s7sJUQsl",
        "colab_type": "code",
        "outputId": "251216bb-7371-4407-b939-fbcd84e4e26f",
        "colab": {
          "base_uri": "https://localhost:8080/",
          "height": 173
        }
      },
      "source": [
        "# =============================================================================\n",
        "# Merging two reservation tables\n",
        "# =============================================================================\n",
        "hpg_reserve = pd.merge(hpg_reserve, store_id_relation, how='inner', on=['hpg_store_id'])\n",
        "# inner join as we want data for only air stores\n",
        "\n",
        "hpg_reserve.drop('hpg_store_id',axis=1, inplace=True)\n",
        "air_reserve = pd.concat([air_reserve, hpg_reserve], axis = 0) \n",
        "\n",
        "\n",
        "# =============================================================================\n",
        "# converting reservation date\n",
        "# =============================================================================\n",
        "\n",
        "air_reserve['res_visit_datetime'] = pd.to_datetime(air_reserve['visit_datetime'])\n",
        "air_reserve['reserve_datetime']   = pd.to_datetime(air_reserve['reserve_datetime'])\n",
        "air_reserve['visit_date']         = air_reserve['res_visit_datetime'].dt.date\n",
        "air_reserve['days_diff'] = (air_reserve['res_visit_datetime']- air_reserve['reserve_datetime']).dt.days\n",
        "air_reserve.drop(['visit_datetime','reserve_datetime','res_visit_datetime'],  axis=1, inplace=True)\n",
        "\n",
        "\n",
        "# =============================================================================\n",
        "# group by day \n",
        "# =============================================================================\n",
        "avg_reserv = air_reserve.groupby(['air_store_id','visit_date'], as_index=False).mean().reset_index()\n",
        "air_reserve = air_reserve.groupby(['air_store_id','visit_date'], as_index=False).sum().reset_index()\n",
        "\n",
        "air_reserve = air_reserve.drop(['days_diff'],axis=1)\n",
        "air_reserve['days_diff'] = avg_reserv['days_diff']  \n",
        "\n",
        "air_reserve = air_reserve.drop(['index'],axis=1)\n",
        "air_reserve['visit_date'] = pd.to_datetime(air_reserve['visit_date'])"
      ],
      "execution_count": 0,
      "outputs": [
        {
          "output_type": "stream",
          "text": [
            "/usr/local/lib/python3.6/dist-packages/ipykernel_launcher.py:5: FutureWarning: Sorting because non-concatenation axis is not aligned. A future version\n",
            "of pandas will change to not sort by default.\n",
            "\n",
            "To accept the future behavior, pass 'sort=False'.\n",
            "\n",
            "To retain the current behavior and silence the warning, pass 'sort=True'.\n",
            "\n",
            "  \"\"\"\n"
          ],
          "name": "stderr"
        }
      ]
    },
    {
      "cell_type": "code",
      "metadata": {
        "id": "RY4c2W5JF4mU",
        "colab_type": "code",
        "colab": {}
      },
      "source": [
        ""
      ],
      "execution_count": 0,
      "outputs": []
    },
    {
      "cell_type": "markdown",
      "metadata": {
        "id": "lyq0CJ5gF42o",
        "colab_type": "text"
      },
      "source": [
        "## Add Calendar data"
      ]
    },
    {
      "cell_type": "code",
      "metadata": {
        "id": "4W5YKWN0F0uo",
        "colab_type": "code",
        "colab": {}
      },
      "source": [
        "# =============================================================================\n",
        "# create new feature `off-work`\n",
        "# =============================================================================\n",
        "date_info['visit_date'] = pd.to_datetime(date_info['visit_date'])\n",
        "date_info[\"off_work\"] = ((date_info[\"day_of_week\"]\\\n",
        "                          .isin(['Saturday','Sunday'])) | (date_info[\"holiday_flg\"]==1)).astype(int)\n",
        "\n",
        "# TODO: what about the day before a non-weekend holiday? or consecutive holidays? "
      ],
      "execution_count": 0,
      "outputs": []
    },
    {
      "cell_type": "markdown",
      "metadata": {
        "id": "xWtZo1h1GBxe",
        "colab_type": "text"
      },
      "source": [
        "## Combine all"
      ]
    },
    {
      "cell_type": "code",
      "metadata": {
        "id": "Z9keK7apF3Ls",
        "colab_type": "code",
        "outputId": "c4bcd798-9589-4f09-a60f-b3ee750072dc",
        "colab": {
          "base_uri": "https://localhost:8080/",
          "height": 68
        }
      },
      "source": [
        "# =============================================================================\n",
        "# Combine all relevant store basic info and calendar set\n",
        "# =============================================================================\n",
        "train = pd.merge(train, air_reserve, how='left', on=['air_store_id', 'visit_date'])\n",
        "train = pd.merge(train, air_store_info,  how='inner', on='air_store_id')\n",
        "train = pd.merge(train, date_info, how='left', on='visit_date')\n",
        "print('Data merged - number visits in train: {}'.format(train.shape[0]))\n",
        "\n",
        "test = pd.merge(test, air_reserve, how='left', on=['air_store_id', 'visit_date'])\n",
        "test = pd.merge(test, air_store_info, how='inner', on='air_store_id')\n",
        "test = pd.merge(test, date_info, how='left', on='visit_date')\n",
        "print('Data merged - number visits in test: {}'.format(test.shape[0]))\n",
        "\n",
        "train.shape, test.shape"
      ],
      "execution_count": 0,
      "outputs": [
        {
          "output_type": "stream",
          "text": [
            "Data merged - number visits in train: 252108\n",
            "Data merged - number visits in test: 32019\n"
          ],
          "name": "stdout"
        },
        {
          "output_type": "execute_result",
          "data": {
            "text/plain": [
              "((252108, 16), (32019, 15))"
            ]
          },
          "metadata": {
            "tags": []
          },
          "execution_count": 14
        }
      ]
    },
    {
      "cell_type": "code",
      "metadata": {
        "id": "ccpxfXiKGLpS",
        "colab_type": "code",
        "colab": {}
      },
      "source": [
        ""
      ],
      "execution_count": 0,
      "outputs": []
    },
    {
      "cell_type": "markdown",
      "metadata": {
        "id": "j2UOWS6dGL6u",
        "colab_type": "text"
      },
      "source": [
        "## Deal with missing value"
      ]
    },
    {
      "cell_type": "code",
      "metadata": {
        "id": "U158hkHQGJvo",
        "colab_type": "code",
        "colab": {}
      },
      "source": [
        "train = train.fillna(-1)\n",
        "test = test.fillna(-1)"
      ],
      "execution_count": 0,
      "outputs": []
    },
    {
      "cell_type": "code",
      "metadata": {
        "id": "aqFkBrOWGnOl",
        "colab_type": "code",
        "colab": {}
      },
      "source": [
        ""
      ],
      "execution_count": 0,
      "outputs": []
    },
    {
      "cell_type": "markdown",
      "metadata": {
        "id": "BHW-n-gbGmGd",
        "colab_type": "text"
      },
      "source": [
        "**So for now the combined data look like this. I haven't joined historical weather data to this combined dataset for now because there are too many missing values in the weather dataset in the first look**"
      ]
    },
    {
      "cell_type": "code",
      "metadata": {
        "id": "Wm1pbKERGOky",
        "colab_type": "code",
        "colab": {}
      },
      "source": [
        "from google.colab import files\n",
        "train.to_csv(data_dir+'train.csv') \n",
        "test.to_csv(data_dir+'test.csv') \n"
      ],
      "execution_count": 0,
      "outputs": []
    },
    {
      "cell_type": "code",
      "metadata": {
        "id": "LyofTAKsGOv_",
        "colab_type": "code",
        "colab": {}
      },
      "source": [
        "# =============================================================================\n",
        "# remove outliers \n",
        "# =============================================================================\n",
        "def remove_outliers(data):\n",
        "    df_0 = data.loc[data['visitors'] == 0]   \n",
        "    q1 = np.percentile(data['visitors'], 25, axis=0)\n",
        "    q3 = np.percentile(data['visitors'], 75, axis=0)\n",
        "#    k = 5\n",
        "#    k = 2.5\n",
        "    k = 2.8\n",
        "    \n",
        "    iqr = q3 - q1\n",
        "    # keep df_temp\n",
        "    df_temp = data.loc[data['visitors'] > q1 - k*iqr]\n",
        "    df_temp = data.loc[data['visitors'] < q3 + k*iqr]\n",
        "    result = pd.concat([df_0, df_temp])\n",
        "    return result\n",
        "\n"
      ],
      "execution_count": 0,
      "outputs": []
    },
    {
      "cell_type": "markdown",
      "metadata": {
        "id": "RpiOuKkCIsty",
        "colab_type": "text"
      },
      "source": [
        "## Simple Plot"
      ]
    },
    {
      "cell_type": "code",
      "metadata": {
        "id": "K8NWmej-IyI1",
        "colab_type": "code",
        "colab": {}
      },
      "source": [
        ""
      ],
      "execution_count": 0,
      "outputs": []
    },
    {
      "cell_type": "code",
      "metadata": {
        "id": "mUCDhI9_HThS",
        "colab_type": "code",
        "outputId": "52508e96-fba1-4d7b-b9ef-b6441b233287",
        "colab": {
          "base_uri": "https://localhost:8080/",
          "height": 304
        }
      },
      "source": [
        "train['visitors'].hist(bins=200, xlabelsize=12, ylabelsize=12)\n",
        "plt.xlabel(\"Number of Visitors\", fontsize=15)\n",
        "plt.ylabel(\"Frequency\",fontsize=15)\n",
        "plt.xlim([0,150])"
      ],
      "execution_count": 0,
      "outputs": [
        {
          "output_type": "execute_result",
          "data": {
            "text/plain": [
              "(0, 150)"
            ]
          },
          "metadata": {
            "tags": []
          },
          "execution_count": 20
        },
        {
          "output_type": "display_data",
          "data": {
            "image/png": "[encoded data removed]",
            "text/plain": [
              "<Figure size 432x288 with 1 Axes>"
            ]
          },
          "metadata": {
            "tags": []
          }
        }
      ]
    },
    {
      "cell_type": "markdown",
      "metadata": {
        "id": "aS1rG2SzHX0A",
        "colab_type": "text"
      },
      "source": [
        "skeeeewed"
      ]
    },
    {
      "cell_type": "code",
      "metadata": {
        "id": "q0cIt6VFHXql",
        "colab_type": "code",
        "colab": {}
      },
      "source": [
        ""
      ],
      "execution_count": 0,
      "outputs": []
    },
    {
      "cell_type": "markdown",
      "metadata": {
        "id": "X9605k74HfNk",
        "colab_type": "text"
      },
      "source": [
        "## Using weather data"
      ]
    },
    {
      "cell_type": "code",
      "metadata": {
        "id": "DypdJ4cVHf-L",
        "colab_type": "code",
        "colab": {}
      },
      "source": [
        "weather_data_dir = '/content/drive/Shared drives/Predictive Competition/rrv-weather-data/'\n",
        "\n",
        "def add_weather(dataset):\n",
        "    print('Adding weather...')\n",
        "    air_nearest = pd.read_csv(weather_data_dir + 'air_store_info_with_nearest_active_station.csv')\n",
        " #   hpg_nearest = pd.read_csv('rrv-weather-data/hpg_store_info_with_nearest_active_station.csv')\n",
        " #   hpg_nearest = pd.merge(hpg_nearest, store_relation, on='hpg_store_id', how='left')\n",
        " #   hpg_nearest = hpg_nearest[~hpg_nearest['air_store_id'].isnull()].drop('hpg_store_id',axis = 1)\n",
        " #   hpg_nearest  = hpg_nearest.rename(columns = {'hpg_area_name': 'air_area_name','hpg_genre_name':'air_genre_name'})\n",
        " #   air_nearest = pd.concat([air_nearest, hpg_nearest],axis = 0)\n",
        "    \n",
        "    unique_air_store_ids = list(dataset['air_store_id'].unique())\n",
        "    \n",
        "    weather_dir = weather_data_dir+'1-1-16_5-31-17_Weather/1-1-16_5-31-17_Weather/'\n",
        "    weather_keep_columns = ['precipitation', 'avg_temperature']\n",
        "\n",
        "    dataset_with_weather = dataset.copy()\n",
        "    for column in weather_keep_columns:\n",
        "        dataset_with_weather[column] = np.nan\n",
        "\n",
        "    for air_id in unique_air_store_ids:\n",
        "        station = air_nearest[air_nearest['air_store_id'] == air_id]['station_id'].iloc[0]\n",
        "        weather_data = pd.read_csv(weather_dir + station + '.csv',\n",
        "                                   parse_dates=['calendar_date']).rename(columns={'calendar_date': 'visit_date'})\n",
        "        this_store = dataset['air_store_id'] == air_id\n",
        "        merged = dataset[this_store].merge(weather_data, on='visit_date', how='left')\n",
        "\n",
        "        for column in weather_keep_columns:\n",
        "            dataset_with_weather.loc[this_store, column] = merged[column]\n",
        "    print('Done')\n",
        "    return dataset_with_weather\n"
      ],
      "execution_count": 0,
      "outputs": []
    },
    {
      "cell_type": "code",
      "metadata": {
        "id": "T5bKg6SZHkm2",
        "colab_type": "code",
        "colab": {}
      },
      "source": [
        "df_train2 = add_weather(train)"
      ],
      "execution_count": 0,
      "outputs": []
    },
    {
      "cell_type": "code",
      "metadata": {
        "id": "_Og3aIINIzAg",
        "colab_type": "code",
        "outputId": "e9ea2019-f10f-42fe-8d8b-ca4867d4ae9c",
        "colab": {
          "base_uri": "https://localhost:8080/",
          "height": 340
        }
      },
      "source": [
        "df_train2.isnull().sum()"
      ],
      "execution_count": 0,
      "outputs": [
        {
          "output_type": "execute_result",
          "data": {
            "text/plain": [
              "air_store_id             0\n",
              "visit_date               0\n",
              "visitors                 0\n",
              "dow                      0\n",
              "year                     0\n",
              "month                    0\n",
              "day                      0\n",
              "reserve_visitors         0\n",
              "days_diff                0\n",
              "air_genre_name           0\n",
              "air_area_name            0\n",
              "latitude                 0\n",
              "longitude                0\n",
              "day_of_week              0\n",
              "holiday_flg              0\n",
              "off_work                 0\n",
              "precipitation       251904\n",
              "avg_temperature     251717\n",
              "dtype: int64"
            ]
          },
          "metadata": {
            "tags": []
          },
          "execution_count": 37
        }
      ]
    },
    {
      "cell_type": "markdown",
      "metadata": {
        "id": "uUSSX9_OLW3h",
        "colab_type": "text"
      },
      "source": [
        "bluh"
      ]
    }
  ]
}